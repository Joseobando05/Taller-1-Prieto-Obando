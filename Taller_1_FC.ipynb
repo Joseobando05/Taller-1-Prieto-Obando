{
  "nbformat": 4,
  "nbformat_minor": 0,
  "metadata": {
    "colab": {
      "name": "Taller 1 FC",
      "provenance": []
    },
    "kernelspec": {
      "name": "python3",
      "display_name": "Python 3"
    },
    "language_info": {
      "name": "python"
    }
  },
  "cells": [
    {
      "cell_type": "markdown",
      "source": [
        "![image.png](data:image/png;base64,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)"
      ],
      "metadata": {
        "id": "cdScFB_a65bg"
      }
    },
    {
      "cell_type": "markdown",
      "source": [
        "**JUAN SEBASTIAN PRIETO DUEÑAS**\n",
        "\n",
        "**JOSE DAVID OBANDO ACOSTA**\n",
        "\n",
        "**TALLER 1**\n",
        "\n",
        "**FINANZAS COMPUTACIONALES**"
      ],
      "metadata": {
        "id": "WiKynLlY7HKh"
      }
    },
    {
      "cell_type": "code",
      "execution_count": 5,
      "metadata": {
        "id": "jRCNBHKiZauZ"
      },
      "outputs": [],
      "source": [
        "import pandas as pd\n",
        "import numpy as np\n",
        "from scipy import stats\n",
        "from matplotlib import pyplot as plt\n",
        "import seaborn as sbn\n",
        "import warnings\n",
        "import scipy.stats as stats\n",
        "import pylab as py\n",
        "warnings.filterwarnings(\"ignore\")"
      ]
    },
    {
      "cell_type": "code",
      "source": [
        "!pip install yfinance\n",
        "import yfinance as yf"
      ],
      "metadata": {
        "colab": {
          "base_uri": "https://localhost:8080/",
          "height": 503
        },
        "id": "XYbdfBpYZ1KT",
        "outputId": "211c2dd6-0a50-461f-d7ae-d2489c9597fa"
      },
      "execution_count": 6,
      "outputs": [
        {
          "output_type": "stream",
          "name": "stdout",
          "text": [
            "Looking in indexes: https://pypi.org/simple, https://us-python.pkg.dev/colab-wheels/public/simple/\n",
            "Collecting yfinance\n",
            "  Downloading yfinance-0.1.74-py2.py3-none-any.whl (27 kB)\n",
            "Collecting requests>=2.26\n",
            "  Downloading requests-2.28.1-py3-none-any.whl (62 kB)\n",
            "\u001b[K     |████████████████████████████████| 62 kB 1.5 MB/s \n",
            "\u001b[?25hRequirement already satisfied: pandas>=0.24.0 in /usr/local/lib/python3.7/dist-packages (from yfinance) (1.3.5)\n",
            "Requirement already satisfied: numpy>=1.15 in /usr/local/lib/python3.7/dist-packages (from yfinance) (1.21.6)\n",
            "Requirement already satisfied: lxml>=4.5.1 in /usr/local/lib/python3.7/dist-packages (from yfinance) (4.9.1)\n",
            "Requirement already satisfied: multitasking>=0.0.7 in /usr/local/lib/python3.7/dist-packages (from yfinance) (0.0.11)\n",
            "Requirement already satisfied: python-dateutil>=2.7.3 in /usr/local/lib/python3.7/dist-packages (from pandas>=0.24.0->yfinance) (2.8.2)\n",
            "Requirement already satisfied: pytz>=2017.3 in /usr/local/lib/python3.7/dist-packages (from pandas>=0.24.0->yfinance) (2022.2.1)\n",
            "Requirement already satisfied: six>=1.5 in /usr/local/lib/python3.7/dist-packages (from python-dateutil>=2.7.3->pandas>=0.24.0->yfinance) (1.15.0)\n",
            "Requirement already satisfied: charset-normalizer<3,>=2 in /usr/local/lib/python3.7/dist-packages (from requests>=2.26->yfinance) (2.1.0)\n",
            "Requirement already satisfied: urllib3<1.27,>=1.21.1 in /usr/local/lib/python3.7/dist-packages (from requests>=2.26->yfinance) (1.24.3)\n",
            "Requirement already satisfied: idna<4,>=2.5 in /usr/local/lib/python3.7/dist-packages (from requests>=2.26->yfinance) (2.10)\n",
            "Requirement already satisfied: certifi>=2017.4.17 in /usr/local/lib/python3.7/dist-packages (from requests>=2.26->yfinance) (2022.6.15)\n",
            "Installing collected packages: requests, yfinance\n",
            "  Attempting uninstall: requests\n",
            "    Found existing installation: requests 2.23.0\n",
            "    Uninstalling requests-2.23.0:\n",
            "      Successfully uninstalled requests-2.23.0\n",
            "Successfully installed requests-2.28.1 yfinance-0.1.74\n"
          ]
        },
        {
          "output_type": "display_data",
          "data": {
            "application/vnd.colab-display-data+json": {
              "pip_warning": {
                "packages": [
                  "requests"
                ]
              }
            }
          },
          "metadata": {}
        }
      ]
    },
    {
      "cell_type": "code",
      "source": [
        "#1. Descargue las series de tiempo de precios (ajustados) mensuales para el periodo Ene-2010 a Dic-2021 de las siguientes 4 acciones: MCD, GE, IBM, T. Con esta información:\n",
        "activos = [\"MCD\", \"GE\",\"IBM\",\"T\"]\n",
        "precios = yf.download(activos,start=\"2010-01-01\",end=\"2021-12-31\",interval = \"1mo\")\n",
        "preciosadj = precios.loc[:,\"Adj Close\"]\n",
        "preciosadj.head(20)"
      ],
      "metadata": {
        "colab": {
          "base_uri": "https://localhost:8080/",
          "height": 725
        },
        "id": "AniG6m02aTtb",
        "outputId": "e00deea2-cc35-4306-fb15-ca3c094a40e9"
      },
      "execution_count": 7,
      "outputs": [
        {
          "output_type": "stream",
          "name": "stdout",
          "text": [
            "[*********************100%***********************]  4 of 4 completed\n"
          ]
        },
        {
          "output_type": "execute_result",
          "data": {
            "text/plain": [
              "                    GE        IBM        MCD         T\n",
              "Date                                                  \n",
              "2010-01-01   91.124489  76.034470  43.710957  7.295421\n",
              "2010-01-06         NaN        NaN        NaN       NaN\n",
              "2010-02-01   91.011131  78.997818  44.705173  7.279537\n",
              "2010-02-08         NaN        NaN        NaN       NaN\n",
              "2010-02-25         NaN        NaN        NaN       NaN\n",
              "2010-03-01  103.782227  80.031357  47.111698  7.581749\n",
              "2010-04-01  107.545761  80.499344  49.844334  7.646301\n",
              "2010-04-07         NaN        NaN        NaN       NaN\n",
              "2010-05-01   93.232918  78.165497  47.217609  7.283843\n",
              "2010-05-06         NaN        NaN        NaN       NaN\n",
              "2010-05-27         NaN        NaN        NaN       NaN\n",
              "2010-06-01   82.227448  77.449707  46.902283  7.250871\n",
              "2010-06-17         NaN        NaN        NaN       NaN\n",
              "2010-07-01   92.505035  80.535660  49.650776  7.775428\n",
              "2010-07-07         NaN        NaN        NaN       NaN\n",
              "2010-08-01   83.093864  77.230164  52.021870  8.291031\n",
              "2010-08-06         NaN        NaN        NaN       NaN\n",
              "2010-08-30         NaN        NaN        NaN       NaN\n",
              "2010-09-01   93.251045  84.552811  53.451660  8.772604\n",
              "2010-09-16         NaN        NaN        NaN       NaN"
            ],
            "text/html": [
              "\n",
              "  <div id=\"df-3f92cba7-38c5-4763-b219-f9df390ce7f5\">\n",
              "    <div class=\"colab-df-container\">\n",
              "      <div>\n",
              "<style scoped>\n",
              "    .dataframe tbody tr th:only-of-type {\n",
              "        vertical-align: middle;\n",
              "    }\n",
              "\n",
              "    .dataframe tbody tr th {\n",
              "        vertical-align: top;\n",
              "    }\n",
              "\n",
              "    .dataframe thead th {\n",
              "        text-align: right;\n",
              "    }\n",
              "</style>\n",
              "<table border=\"1\" class=\"dataframe\">\n",
              "  <thead>\n",
              "    <tr style=\"text-align: right;\">\n",
              "      <th></th>\n",
              "      <th>GE</th>\n",
              "      <th>IBM</th>\n",
              "      <th>MCD</th>\n",
              "      <th>T</th>\n",
              "    </tr>\n",
              "    <tr>\n",
              "      <th>Date</th>\n",
              "      <th></th>\n",
              "      <th></th>\n",
              "      <th></th>\n",
              "      <th></th>\n",
              "    </tr>\n",
              "  </thead>\n",
              "  <tbody>\n",
              "    <tr>\n",
              "      <th>2010-01-01</th>\n",
              "      <td>91.124489</td>\n",
              "      <td>76.034470</td>\n",
              "      <td>43.710957</td>\n",
              "      <td>7.295421</td>\n",
              "    </tr>\n",
              "    <tr>\n",
              "      <th>2010-01-06</th>\n",
              "      <td>NaN</td>\n",
              "      <td>NaN</td>\n",
              "      <td>NaN</td>\n",
              "      <td>NaN</td>\n",
              "    </tr>\n",
              "    <tr>\n",
              "      <th>2010-02-01</th>\n",
              "      <td>91.011131</td>\n",
              "      <td>78.997818</td>\n",
              "      <td>44.705173</td>\n",
              "      <td>7.279537</td>\n",
              "    </tr>\n",
              "    <tr>\n",
              "      <th>2010-02-08</th>\n",
              "      <td>NaN</td>\n",
              "      <td>NaN</td>\n",
              "      <td>NaN</td>\n",
              "      <td>NaN</td>\n",
              "    </tr>\n",
              "    <tr>\n",
              "      <th>2010-02-25</th>\n",
              "      <td>NaN</td>\n",
              "      <td>NaN</td>\n",
              "      <td>NaN</td>\n",
              "      <td>NaN</td>\n",
              "    </tr>\n",
              "    <tr>\n",
              "      <th>2010-03-01</th>\n",
              "      <td>103.782227</td>\n",
              "      <td>80.031357</td>\n",
              "      <td>47.111698</td>\n",
              "      <td>7.581749</td>\n",
              "    </tr>\n",
              "    <tr>\n",
              "      <th>2010-04-01</th>\n",
              "      <td>107.545761</td>\n",
              "      <td>80.499344</td>\n",
              "      <td>49.844334</td>\n",
              "      <td>7.646301</td>\n",
              "    </tr>\n",
              "    <tr>\n",
              "      <th>2010-04-07</th>\n",
              "      <td>NaN</td>\n",
              "      <td>NaN</td>\n",
              "      <td>NaN</td>\n",
              "      <td>NaN</td>\n",
              "    </tr>\n",
              "    <tr>\n",
              "      <th>2010-05-01</th>\n",
              "      <td>93.232918</td>\n",
              "      <td>78.165497</td>\n",
              "      <td>47.217609</td>\n",
              "      <td>7.283843</td>\n",
              "    </tr>\n",
              "    <tr>\n",
              "      <th>2010-05-06</th>\n",
              "      <td>NaN</td>\n",
              "      <td>NaN</td>\n",
              "      <td>NaN</td>\n",
              "      <td>NaN</td>\n",
              "    </tr>\n",
              "    <tr>\n",
              "      <th>2010-05-27</th>\n",
              "      <td>NaN</td>\n",
              "      <td>NaN</td>\n",
              "      <td>NaN</td>\n",
              "      <td>NaN</td>\n",
              "    </tr>\n",
              "    <tr>\n",
              "      <th>2010-06-01</th>\n",
              "      <td>82.227448</td>\n",
              "      <td>77.449707</td>\n",
              "      <td>46.902283</td>\n",
              "      <td>7.250871</td>\n",
              "    </tr>\n",
              "    <tr>\n",
              "      <th>2010-06-17</th>\n",
              "      <td>NaN</td>\n",
              "      <td>NaN</td>\n",
              "      <td>NaN</td>\n",
              "      <td>NaN</td>\n",
              "    </tr>\n",
              "    <tr>\n",
              "      <th>2010-07-01</th>\n",
              "      <td>92.505035</td>\n",
              "      <td>80.535660</td>\n",
              "      <td>49.650776</td>\n",
              "      <td>7.775428</td>\n",
              "    </tr>\n",
              "    <tr>\n",
              "      <th>2010-07-07</th>\n",
              "      <td>NaN</td>\n",
              "      <td>NaN</td>\n",
              "      <td>NaN</td>\n",
              "      <td>NaN</td>\n",
              "    </tr>\n",
              "    <tr>\n",
              "      <th>2010-08-01</th>\n",
              "      <td>83.093864</td>\n",
              "      <td>77.230164</td>\n",
              "      <td>52.021870</td>\n",
              "      <td>8.291031</td>\n",
              "    </tr>\n",
              "    <tr>\n",
              "      <th>2010-08-06</th>\n",
              "      <td>NaN</td>\n",
              "      <td>NaN</td>\n",
              "      <td>NaN</td>\n",
              "      <td>NaN</td>\n",
              "    </tr>\n",
              "    <tr>\n",
              "      <th>2010-08-30</th>\n",
              "      <td>NaN</td>\n",
              "      <td>NaN</td>\n",
              "      <td>NaN</td>\n",
              "      <td>NaN</td>\n",
              "    </tr>\n",
              "    <tr>\n",
              "      <th>2010-09-01</th>\n",
              "      <td>93.251045</td>\n",
              "      <td>84.552811</td>\n",
              "      <td>53.451660</td>\n",
              "      <td>8.772604</td>\n",
              "    </tr>\n",
              "    <tr>\n",
              "      <th>2010-09-16</th>\n",
              "      <td>NaN</td>\n",
              "      <td>NaN</td>\n",
              "      <td>NaN</td>\n",
              "      <td>NaN</td>\n",
              "    </tr>\n",
              "  </tbody>\n",
              "</table>\n",
              "</div>\n",
              "      <button class=\"colab-df-convert\" onclick=\"convertToInteractive('df-3f92cba7-38c5-4763-b219-f9df390ce7f5')\"\n",
              "              title=\"Convert this dataframe to an interactive table.\"\n",
              "              style=\"display:none;\">\n",
              "        \n",
              "  <svg xmlns=\"http://www.w3.org/2000/svg\" height=\"24px\"viewBox=\"0 0 24 24\"\n",
              "       width=\"24px\">\n",
              "    <path d=\"M0 0h24v24H0V0z\" fill=\"none\"/>\n",
              "    <path d=\"M18.56 5.44l.94 2.06.94-2.06 2.06-.94-2.06-.94-.94-2.06-.94 2.06-2.06.94zm-11 1L8.5 8.5l.94-2.06 2.06-.94-2.06-.94L8.5 2.5l-.94 2.06-2.06.94zm10 10l.94 2.06.94-2.06 2.06-.94-2.06-.94-.94-2.06-.94 2.06-2.06.94z\"/><path d=\"M17.41 7.96l-1.37-1.37c-.4-.4-.92-.59-1.43-.59-.52 0-1.04.2-1.43.59L10.3 9.45l-7.72 7.72c-.78.78-.78 2.05 0 2.83L4 21.41c.39.39.9.59 1.41.59.51 0 1.02-.2 1.41-.59l7.78-7.78 2.81-2.81c.8-.78.8-2.07 0-2.86zM5.41 20L4 18.59l7.72-7.72 1.47 1.35L5.41 20z\"/>\n",
              "  </svg>\n",
              "      </button>\n",
              "      \n",
              "  <style>\n",
              "    .colab-df-container {\n",
              "      display:flex;\n",
              "      flex-wrap:wrap;\n",
              "      gap: 12px;\n",
              "    }\n",
              "\n",
              "    .colab-df-convert {\n",
              "      background-color: #E8F0FE;\n",
              "      border: none;\n",
              "      border-radius: 50%;\n",
              "      cursor: pointer;\n",
              "      display: none;\n",
              "      fill: #1967D2;\n",
              "      height: 32px;\n",
              "      padding: 0 0 0 0;\n",
              "      width: 32px;\n",
              "    }\n",
              "\n",
              "    .colab-df-convert:hover {\n",
              "      background-color: #E2EBFA;\n",
              "      box-shadow: 0px 1px 2px rgba(60, 64, 67, 0.3), 0px 1px 3px 1px rgba(60, 64, 67, 0.15);\n",
              "      fill: #174EA6;\n",
              "    }\n",
              "\n",
              "    [theme=dark] .colab-df-convert {\n",
              "      background-color: #3B4455;\n",
              "      fill: #D2E3FC;\n",
              "    }\n",
              "\n",
              "    [theme=dark] .colab-df-convert:hover {\n",
              "      background-color: #434B5C;\n",
              "      box-shadow: 0px 1px 3px 1px rgba(0, 0, 0, 0.15);\n",
              "      filter: drop-shadow(0px 1px 2px rgba(0, 0, 0, 0.3));\n",
              "      fill: #FFFFFF;\n",
              "    }\n",
              "  </style>\n",
              "\n",
              "      <script>\n",
              "        const buttonEl =\n",
              "          document.querySelector('#df-3f92cba7-38c5-4763-b219-f9df390ce7f5 button.colab-df-convert');\n",
              "        buttonEl.style.display =\n",
              "          google.colab.kernel.accessAllowed ? 'block' : 'none';\n",
              "\n",
              "        async function convertToInteractive(key) {\n",
              "          const element = document.querySelector('#df-3f92cba7-38c5-4763-b219-f9df390ce7f5');\n",
              "          const dataTable =\n",
              "            await google.colab.kernel.invokeFunction('convertToInteractive',\n",
              "                                                     [key], {});\n",
              "          if (!dataTable) return;\n",
              "\n",
              "          const docLinkHtml = 'Like what you see? Visit the ' +\n",
              "            '<a target=\"_blank\" href=https://colab.research.google.com/notebooks/data_table.ipynb>data table notebook</a>'\n",
              "            + ' to learn more about interactive tables.';\n",
              "          element.innerHTML = '';\n",
              "          dataTable['output_type'] = 'display_data';\n",
              "          await google.colab.output.renderOutput(dataTable, element);\n",
              "          const docLink = document.createElement('div');\n",
              "          docLink.innerHTML = docLinkHtml;\n",
              "          element.appendChild(docLink);\n",
              "        }\n",
              "      </script>\n",
              "    </div>\n",
              "  </div>\n",
              "  "
            ]
          },
          "metadata": {},
          "execution_count": 7
        }
      ]
    },
    {
      "cell_type": "markdown",
      "source": [
        "Acá realizamos la importaciones de los datos mensuales, pero hay que eliminar los NA.\n",
        "\n"
      ],
      "metadata": {
        "id": "x6Bjz3Z7WcZV"
      }
    },
    {
      "cell_type": "code",
      "source": [
        "preciosadj.dropna(inplace = True)\n",
        "preciosadj"
      ],
      "metadata": {
        "colab": {
          "base_uri": "https://localhost:8080/",
          "height": 455
        },
        "id": "4qLaoRxzi9p7",
        "outputId": "0ca93c64-657f-4ad6-f758-3f31057a5154"
      },
      "execution_count": 8,
      "outputs": [
        {
          "output_type": "execute_result",
          "data": {
            "text/plain": [
              "                    GE         IBM         MCD          T\n",
              "Date                                                     \n",
              "2010-01-01   91.124489   76.034470   43.710957   7.295421\n",
              "2010-02-01   91.011131   78.997818   44.705173   7.279537\n",
              "2010-03-01  103.782227   80.031357   47.111698   7.581749\n",
              "2010-04-01  107.545761   80.499344   49.844334   7.646301\n",
              "2010-05-01   93.232918   78.165497   47.217609   7.283843\n",
              "...                ...         ...         ...        ...\n",
              "2021-08-01  105.016121  126.196465  232.276581  19.121511\n",
              "2021-09-01  102.645004  126.366852  237.139893  18.835596\n",
              "2021-10-01  104.559372  113.787476  241.506805  17.615223\n",
              "2021-11-01   94.708633  111.410393  240.572433  16.332382\n",
              "2021-12-01   94.190178  128.862717  265.117676  17.598623\n",
              "\n",
              "[144 rows x 4 columns]"
            ],
            "text/html": [
              "\n",
              "  <div id=\"df-d96b9979-e8e4-47ff-afb9-c1513c9b9db3\">\n",
              "    <div class=\"colab-df-container\">\n",
              "      <div>\n",
              "<style scoped>\n",
              "    .dataframe tbody tr th:only-of-type {\n",
              "        vertical-align: middle;\n",
              "    }\n",
              "\n",
              "    .dataframe tbody tr th {\n",
              "        vertical-align: top;\n",
              "    }\n",
              "\n",
              "    .dataframe thead th {\n",
              "        text-align: right;\n",
              "    }\n",
              "</style>\n",
              "<table border=\"1\" class=\"dataframe\">\n",
              "  <thead>\n",
              "    <tr style=\"text-align: right;\">\n",
              "      <th></th>\n",
              "      <th>GE</th>\n",
              "      <th>IBM</th>\n",
              "      <th>MCD</th>\n",
              "      <th>T</th>\n",
              "    </tr>\n",
              "    <tr>\n",
              "      <th>Date</th>\n",
              "      <th></th>\n",
              "      <th></th>\n",
              "      <th></th>\n",
              "      <th></th>\n",
              "    </tr>\n",
              "  </thead>\n",
              "  <tbody>\n",
              "    <tr>\n",
              "      <th>2010-01-01</th>\n",
              "      <td>91.124489</td>\n",
              "      <td>76.034470</td>\n",
              "      <td>43.710957</td>\n",
              "      <td>7.295421</td>\n",
              "    </tr>\n",
              "    <tr>\n",
              "      <th>2010-02-01</th>\n",
              "      <td>91.011131</td>\n",
              "      <td>78.997818</td>\n",
              "      <td>44.705173</td>\n",
              "      <td>7.279537</td>\n",
              "    </tr>\n",
              "    <tr>\n",
              "      <th>2010-03-01</th>\n",
              "      <td>103.782227</td>\n",
              "      <td>80.031357</td>\n",
              "      <td>47.111698</td>\n",
              "      <td>7.581749</td>\n",
              "    </tr>\n",
              "    <tr>\n",
              "      <th>2010-04-01</th>\n",
              "      <td>107.545761</td>\n",
              "      <td>80.499344</td>\n",
              "      <td>49.844334</td>\n",
              "      <td>7.646301</td>\n",
              "    </tr>\n",
              "    <tr>\n",
              "      <th>2010-05-01</th>\n",
              "      <td>93.232918</td>\n",
              "      <td>78.165497</td>\n",
              "      <td>47.217609</td>\n",
              "      <td>7.283843</td>\n",
              "    </tr>\n",
              "    <tr>\n",
              "      <th>...</th>\n",
              "      <td>...</td>\n",
              "      <td>...</td>\n",
              "      <td>...</td>\n",
              "      <td>...</td>\n",
              "    </tr>\n",
              "    <tr>\n",
              "      <th>2021-08-01</th>\n",
              "      <td>105.016121</td>\n",
              "      <td>126.196465</td>\n",
              "      <td>232.276581</td>\n",
              "      <td>19.121511</td>\n",
              "    </tr>\n",
              "    <tr>\n",
              "      <th>2021-09-01</th>\n",
              "      <td>102.645004</td>\n",
              "      <td>126.366852</td>\n",
              "      <td>237.139893</td>\n",
              "      <td>18.835596</td>\n",
              "    </tr>\n",
              "    <tr>\n",
              "      <th>2021-10-01</th>\n",
              "      <td>104.559372</td>\n",
              "      <td>113.787476</td>\n",
              "      <td>241.506805</td>\n",
              "      <td>17.615223</td>\n",
              "    </tr>\n",
              "    <tr>\n",
              "      <th>2021-11-01</th>\n",
              "      <td>94.708633</td>\n",
              "      <td>111.410393</td>\n",
              "      <td>240.572433</td>\n",
              "      <td>16.332382</td>\n",
              "    </tr>\n",
              "    <tr>\n",
              "      <th>2021-12-01</th>\n",
              "      <td>94.190178</td>\n",
              "      <td>128.862717</td>\n",
              "      <td>265.117676</td>\n",
              "      <td>17.598623</td>\n",
              "    </tr>\n",
              "  </tbody>\n",
              "</table>\n",
              "<p>144 rows × 4 columns</p>\n",
              "</div>\n",
              "      <button class=\"colab-df-convert\" onclick=\"convertToInteractive('df-d96b9979-e8e4-47ff-afb9-c1513c9b9db3')\"\n",
              "              title=\"Convert this dataframe to an interactive table.\"\n",
              "              style=\"display:none;\">\n",
              "        \n",
              "  <svg xmlns=\"http://www.w3.org/2000/svg\" height=\"24px\"viewBox=\"0 0 24 24\"\n",
              "       width=\"24px\">\n",
              "    <path d=\"M0 0h24v24H0V0z\" fill=\"none\"/>\n",
              "    <path d=\"M18.56 5.44l.94 2.06.94-2.06 2.06-.94-2.06-.94-.94-2.06-.94 2.06-2.06.94zm-11 1L8.5 8.5l.94-2.06 2.06-.94-2.06-.94L8.5 2.5l-.94 2.06-2.06.94zm10 10l.94 2.06.94-2.06 2.06-.94-2.06-.94-.94-2.06-.94 2.06-2.06.94z\"/><path d=\"M17.41 7.96l-1.37-1.37c-.4-.4-.92-.59-1.43-.59-.52 0-1.04.2-1.43.59L10.3 9.45l-7.72 7.72c-.78.78-.78 2.05 0 2.83L4 21.41c.39.39.9.59 1.41.59.51 0 1.02-.2 1.41-.59l7.78-7.78 2.81-2.81c.8-.78.8-2.07 0-2.86zM5.41 20L4 18.59l7.72-7.72 1.47 1.35L5.41 20z\"/>\n",
              "  </svg>\n",
              "      </button>\n",
              "      \n",
              "  <style>\n",
              "    .colab-df-container {\n",
              "      display:flex;\n",
              "      flex-wrap:wrap;\n",
              "      gap: 12px;\n",
              "    }\n",
              "\n",
              "    .colab-df-convert {\n",
              "      background-color: #E8F0FE;\n",
              "      border: none;\n",
              "      border-radius: 50%;\n",
              "      cursor: pointer;\n",
              "      display: none;\n",
              "      fill: #1967D2;\n",
              "      height: 32px;\n",
              "      padding: 0 0 0 0;\n",
              "      width: 32px;\n",
              "    }\n",
              "\n",
              "    .colab-df-convert:hover {\n",
              "      background-color: #E2EBFA;\n",
              "      box-shadow: 0px 1px 2px rgba(60, 64, 67, 0.3), 0px 1px 3px 1px rgba(60, 64, 67, 0.15);\n",
              "      fill: #174EA6;\n",
              "    }\n",
              "\n",
              "    [theme=dark] .colab-df-convert {\n",
              "      background-color: #3B4455;\n",
              "      fill: #D2E3FC;\n",
              "    }\n",
              "\n",
              "    [theme=dark] .colab-df-convert:hover {\n",
              "      background-color: #434B5C;\n",
              "      box-shadow: 0px 1px 3px 1px rgba(0, 0, 0, 0.15);\n",
              "      filter: drop-shadow(0px 1px 2px rgba(0, 0, 0, 0.3));\n",
              "      fill: #FFFFFF;\n",
              "    }\n",
              "  </style>\n",
              "\n",
              "      <script>\n",
              "        const buttonEl =\n",
              "          document.querySelector('#df-d96b9979-e8e4-47ff-afb9-c1513c9b9db3 button.colab-df-convert');\n",
              "        buttonEl.style.display =\n",
              "          google.colab.kernel.accessAllowed ? 'block' : 'none';\n",
              "\n",
              "        async function convertToInteractive(key) {\n",
              "          const element = document.querySelector('#df-d96b9979-e8e4-47ff-afb9-c1513c9b9db3');\n",
              "          const dataTable =\n",
              "            await google.colab.kernel.invokeFunction('convertToInteractive',\n",
              "                                                     [key], {});\n",
              "          if (!dataTable) return;\n",
              "\n",
              "          const docLinkHtml = 'Like what you see? Visit the ' +\n",
              "            '<a target=\"_blank\" href=https://colab.research.google.com/notebooks/data_table.ipynb>data table notebook</a>'\n",
              "            + ' to learn more about interactive tables.';\n",
              "          element.innerHTML = '';\n",
              "          dataTable['output_type'] = 'display_data';\n",
              "          await google.colab.output.renderOutput(dataTable, element);\n",
              "          const docLink = document.createElement('div');\n",
              "          docLink.innerHTML = docLinkHtml;\n",
              "          element.appendChild(docLink);\n",
              "        }\n",
              "      </script>\n",
              "    </div>\n",
              "  </div>\n",
              "  "
            ]
          },
          "metadata": {},
          "execution_count": 8
        }
      ]
    },
    {
      "cell_type": "markdown",
      "source": [
        "Por ende, se eliminan los NA, para con ello no tener sesgos en la información, y que efectivamente tengamos los precios mensuales."
      ],
      "metadata": {
        "id": "SpAfE2_DWxdZ"
      }
    },
    {
      "cell_type": "code",
      "source": [
        "#a. Calcule los retornos logarítmicos.\n",
        "retornos=np.log(preciosadj/preciosadj.shift()).dropna()\n",
        "retornos"
      ],
      "metadata": {
        "colab": {
          "base_uri": "https://localhost:8080/",
          "height": 455
        },
        "id": "NpE9H6ebbM50",
        "outputId": "e2e11da0-f4ad-4ba5-f1bd-36a65e62fd7a"
      },
      "execution_count": 9,
      "outputs": [
        {
          "output_type": "execute_result",
          "data": {
            "text/plain": [
              "                  GE       IBM       MCD         T\n",
              "Date                                              \n",
              "2010-02-01 -0.001245  0.038233  0.022490 -0.002180\n",
              "2010-03-01  0.131313  0.012998  0.052432  0.040677\n",
              "2010-04-01  0.035622  0.005831  0.056383  0.008478\n",
              "2010-05-01 -0.142816 -0.029421 -0.054138 -0.048563\n",
              "2010-06-01 -0.125612 -0.009200 -0.006701 -0.004537\n",
              "...              ...       ...       ...       ...\n",
              "2021-08-01  0.017320 -0.004408 -0.021868  0.001370\n",
              "2021-09-01 -0.022837  0.001349  0.020721 -0.015065\n",
              "2021-10-01  0.018479 -0.104857  0.018247 -0.066985\n",
              "2021-11-01 -0.098950 -0.021112 -0.003876 -0.075614\n",
              "2021-12-01 -0.005489  0.145527  0.097153  0.074671\n",
              "\n",
              "[143 rows x 4 columns]"
            ],
            "text/html": [
              "\n",
              "  <div id=\"df-0b814c60-f197-4525-99d7-cf136b9bd54c\">\n",
              "    <div class=\"colab-df-container\">\n",
              "      <div>\n",
              "<style scoped>\n",
              "    .dataframe tbody tr th:only-of-type {\n",
              "        vertical-align: middle;\n",
              "    }\n",
              "\n",
              "    .dataframe tbody tr th {\n",
              "        vertical-align: top;\n",
              "    }\n",
              "\n",
              "    .dataframe thead th {\n",
              "        text-align: right;\n",
              "    }\n",
              "</style>\n",
              "<table border=\"1\" class=\"dataframe\">\n",
              "  <thead>\n",
              "    <tr style=\"text-align: right;\">\n",
              "      <th></th>\n",
              "      <th>GE</th>\n",
              "      <th>IBM</th>\n",
              "      <th>MCD</th>\n",
              "      <th>T</th>\n",
              "    </tr>\n",
              "    <tr>\n",
              "      <th>Date</th>\n",
              "      <th></th>\n",
              "      <th></th>\n",
              "      <th></th>\n",
              "      <th></th>\n",
              "    </tr>\n",
              "  </thead>\n",
              "  <tbody>\n",
              "    <tr>\n",
              "      <th>2010-02-01</th>\n",
              "      <td>-0.001245</td>\n",
              "      <td>0.038233</td>\n",
              "      <td>0.022490</td>\n",
              "      <td>-0.002180</td>\n",
              "    </tr>\n",
              "    <tr>\n",
              "      <th>2010-03-01</th>\n",
              "      <td>0.131313</td>\n",
              "      <td>0.012998</td>\n",
              "      <td>0.052432</td>\n",
              "      <td>0.040677</td>\n",
              "    </tr>\n",
              "    <tr>\n",
              "      <th>2010-04-01</th>\n",
              "      <td>0.035622</td>\n",
              "      <td>0.005831</td>\n",
              "      <td>0.056383</td>\n",
              "      <td>0.008478</td>\n",
              "    </tr>\n",
              "    <tr>\n",
              "      <th>2010-05-01</th>\n",
              "      <td>-0.142816</td>\n",
              "      <td>-0.029421</td>\n",
              "      <td>-0.054138</td>\n",
              "      <td>-0.048563</td>\n",
              "    </tr>\n",
              "    <tr>\n",
              "      <th>2010-06-01</th>\n",
              "      <td>-0.125612</td>\n",
              "      <td>-0.009200</td>\n",
              "      <td>-0.006701</td>\n",
              "      <td>-0.004537</td>\n",
              "    </tr>\n",
              "    <tr>\n",
              "      <th>...</th>\n",
              "      <td>...</td>\n",
              "      <td>...</td>\n",
              "      <td>...</td>\n",
              "      <td>...</td>\n",
              "    </tr>\n",
              "    <tr>\n",
              "      <th>2021-08-01</th>\n",
              "      <td>0.017320</td>\n",
              "      <td>-0.004408</td>\n",
              "      <td>-0.021868</td>\n",
              "      <td>0.001370</td>\n",
              "    </tr>\n",
              "    <tr>\n",
              "      <th>2021-09-01</th>\n",
              "      <td>-0.022837</td>\n",
              "      <td>0.001349</td>\n",
              "      <td>0.020721</td>\n",
              "      <td>-0.015065</td>\n",
              "    </tr>\n",
              "    <tr>\n",
              "      <th>2021-10-01</th>\n",
              "      <td>0.018479</td>\n",
              "      <td>-0.104857</td>\n",
              "      <td>0.018247</td>\n",
              "      <td>-0.066985</td>\n",
              "    </tr>\n",
              "    <tr>\n",
              "      <th>2021-11-01</th>\n",
              "      <td>-0.098950</td>\n",
              "      <td>-0.021112</td>\n",
              "      <td>-0.003876</td>\n",
              "      <td>-0.075614</td>\n",
              "    </tr>\n",
              "    <tr>\n",
              "      <th>2021-12-01</th>\n",
              "      <td>-0.005489</td>\n",
              "      <td>0.145527</td>\n",
              "      <td>0.097153</td>\n",
              "      <td>0.074671</td>\n",
              "    </tr>\n",
              "  </tbody>\n",
              "</table>\n",
              "<p>143 rows × 4 columns</p>\n",
              "</div>\n",
              "      <button class=\"colab-df-convert\" onclick=\"convertToInteractive('df-0b814c60-f197-4525-99d7-cf136b9bd54c')\"\n",
              "              title=\"Convert this dataframe to an interactive table.\"\n",
              "              style=\"display:none;\">\n",
              "        \n",
              "  <svg xmlns=\"http://www.w3.org/2000/svg\" height=\"24px\"viewBox=\"0 0 24 24\"\n",
              "       width=\"24px\">\n",
              "    <path d=\"M0 0h24v24H0V0z\" fill=\"none\"/>\n",
              "    <path d=\"M18.56 5.44l.94 2.06.94-2.06 2.06-.94-2.06-.94-.94-2.06-.94 2.06-2.06.94zm-11 1L8.5 8.5l.94-2.06 2.06-.94-2.06-.94L8.5 2.5l-.94 2.06-2.06.94zm10 10l.94 2.06.94-2.06 2.06-.94-2.06-.94-.94-2.06-.94 2.06-2.06.94z\"/><path d=\"M17.41 7.96l-1.37-1.37c-.4-.4-.92-.59-1.43-.59-.52 0-1.04.2-1.43.59L10.3 9.45l-7.72 7.72c-.78.78-.78 2.05 0 2.83L4 21.41c.39.39.9.59 1.41.59.51 0 1.02-.2 1.41-.59l7.78-7.78 2.81-2.81c.8-.78.8-2.07 0-2.86zM5.41 20L4 18.59l7.72-7.72 1.47 1.35L5.41 20z\"/>\n",
              "  </svg>\n",
              "      </button>\n",
              "      \n",
              "  <style>\n",
              "    .colab-df-container {\n",
              "      display:flex;\n",
              "      flex-wrap:wrap;\n",
              "      gap: 12px;\n",
              "    }\n",
              "\n",
              "    .colab-df-convert {\n",
              "      background-color: #E8F0FE;\n",
              "      border: none;\n",
              "      border-radius: 50%;\n",
              "      cursor: pointer;\n",
              "      display: none;\n",
              "      fill: #1967D2;\n",
              "      height: 32px;\n",
              "      padding: 0 0 0 0;\n",
              "      width: 32px;\n",
              "    }\n",
              "\n",
              "    .colab-df-convert:hover {\n",
              "      background-color: #E2EBFA;\n",
              "      box-shadow: 0px 1px 2px rgba(60, 64, 67, 0.3), 0px 1px 3px 1px rgba(60, 64, 67, 0.15);\n",
              "      fill: #174EA6;\n",
              "    }\n",
              "\n",
              "    [theme=dark] .colab-df-convert {\n",
              "      background-color: #3B4455;\n",
              "      fill: #D2E3FC;\n",
              "    }\n",
              "\n",
              "    [theme=dark] .colab-df-convert:hover {\n",
              "      background-color: #434B5C;\n",
              "      box-shadow: 0px 1px 3px 1px rgba(0, 0, 0, 0.15);\n",
              "      filter: drop-shadow(0px 1px 2px rgba(0, 0, 0, 0.3));\n",
              "      fill: #FFFFFF;\n",
              "    }\n",
              "  </style>\n",
              "\n",
              "      <script>\n",
              "        const buttonEl =\n",
              "          document.querySelector('#df-0b814c60-f197-4525-99d7-cf136b9bd54c button.colab-df-convert');\n",
              "        buttonEl.style.display =\n",
              "          google.colab.kernel.accessAllowed ? 'block' : 'none';\n",
              "\n",
              "        async function convertToInteractive(key) {\n",
              "          const element = document.querySelector('#df-0b814c60-f197-4525-99d7-cf136b9bd54c');\n",
              "          const dataTable =\n",
              "            await google.colab.kernel.invokeFunction('convertToInteractive',\n",
              "                                                     [key], {});\n",
              "          if (!dataTable) return;\n",
              "\n",
              "          const docLinkHtml = 'Like what you see? Visit the ' +\n",
              "            '<a target=\"_blank\" href=https://colab.research.google.com/notebooks/data_table.ipynb>data table notebook</a>'\n",
              "            + ' to learn more about interactive tables.';\n",
              "          element.innerHTML = '';\n",
              "          dataTable['output_type'] = 'display_data';\n",
              "          await google.colab.output.renderOutput(dataTable, element);\n",
              "          const docLink = document.createElement('div');\n",
              "          docLink.innerHTML = docLinkHtml;\n",
              "          element.appendChild(docLink);\n",
              "        }\n",
              "      </script>\n",
              "    </div>\n",
              "  </div>\n",
              "  "
            ]
          },
          "metadata": {},
          "execution_count": 9
        }
      ]
    },
    {
      "cell_type": "markdown",
      "source": [
        "Hallamos los retornos continuos, para con ello poder analizar las acciones."
      ],
      "metadata": {
        "id": "lMNITJn9XKmv"
      }
    },
    {
      "cell_type": "code",
      "source": [
        "#b. Calcule las estadísticas descriptivas (media, mediana, desv. estándar, curtosis, simetría) para cada uno de ellos. Presente los estadísticos en una tabla para todos los activos.\n",
        "estadisticos=retornos.describe()\n",
        "estadisticos\n",
        "#la mediana es el quartil 2, o sea el 50% en la tabla"
      ],
      "metadata": {
        "colab": {
          "base_uri": "https://localhost:8080/",
          "height": 300
        },
        "id": "XhTasNT8b-cb",
        "outputId": "753fce0c-2ae5-4488-aade-8d646310d118"
      },
      "execution_count": 10,
      "outputs": [
        {
          "output_type": "execute_result",
          "data": {
            "text/plain": [
              "               GE         IBM         MCD           T\n",
              "count  143.000000  143.000000  143.000000  143.000000\n",
              "mean     0.000231    0.003689    0.012605    0.006158\n",
              "std      0.086937    0.060536    0.042488    0.048299\n",
              "min     -0.315013   -0.270005   -0.154431   -0.189159\n",
              "25%     -0.041398   -0.024861   -0.009248   -0.019500\n",
              "50%     -0.001930    0.002619    0.011742    0.006483\n",
              "75%      0.042081    0.043382    0.040007    0.042621\n",
              "max      0.316246    0.167670    0.130368    0.098672"
            ],
            "text/html": [
              "\n",
              "  <div id=\"df-1b32d30e-6e07-4212-924e-d394b2ec7338\">\n",
              "    <div class=\"colab-df-container\">\n",
              "      <div>\n",
              "<style scoped>\n",
              "    .dataframe tbody tr th:only-of-type {\n",
              "        vertical-align: middle;\n",
              "    }\n",
              "\n",
              "    .dataframe tbody tr th {\n",
              "        vertical-align: top;\n",
              "    }\n",
              "\n",
              "    .dataframe thead th {\n",
              "        text-align: right;\n",
              "    }\n",
              "</style>\n",
              "<table border=\"1\" class=\"dataframe\">\n",
              "  <thead>\n",
              "    <tr style=\"text-align: right;\">\n",
              "      <th></th>\n",
              "      <th>GE</th>\n",
              "      <th>IBM</th>\n",
              "      <th>MCD</th>\n",
              "      <th>T</th>\n",
              "    </tr>\n",
              "  </thead>\n",
              "  <tbody>\n",
              "    <tr>\n",
              "      <th>count</th>\n",
              "      <td>143.000000</td>\n",
              "      <td>143.000000</td>\n",
              "      <td>143.000000</td>\n",
              "      <td>143.000000</td>\n",
              "    </tr>\n",
              "    <tr>\n",
              "      <th>mean</th>\n",
              "      <td>0.000231</td>\n",
              "      <td>0.003689</td>\n",
              "      <td>0.012605</td>\n",
              "      <td>0.006158</td>\n",
              "    </tr>\n",
              "    <tr>\n",
              "      <th>std</th>\n",
              "      <td>0.086937</td>\n",
              "      <td>0.060536</td>\n",
              "      <td>0.042488</td>\n",
              "      <td>0.048299</td>\n",
              "    </tr>\n",
              "    <tr>\n",
              "      <th>min</th>\n",
              "      <td>-0.315013</td>\n",
              "      <td>-0.270005</td>\n",
              "      <td>-0.154431</td>\n",
              "      <td>-0.189159</td>\n",
              "    </tr>\n",
              "    <tr>\n",
              "      <th>25%</th>\n",
              "      <td>-0.041398</td>\n",
              "      <td>-0.024861</td>\n",
              "      <td>-0.009248</td>\n",
              "      <td>-0.019500</td>\n",
              "    </tr>\n",
              "    <tr>\n",
              "      <th>50%</th>\n",
              "      <td>-0.001930</td>\n",
              "      <td>0.002619</td>\n",
              "      <td>0.011742</td>\n",
              "      <td>0.006483</td>\n",
              "    </tr>\n",
              "    <tr>\n",
              "      <th>75%</th>\n",
              "      <td>0.042081</td>\n",
              "      <td>0.043382</td>\n",
              "      <td>0.040007</td>\n",
              "      <td>0.042621</td>\n",
              "    </tr>\n",
              "    <tr>\n",
              "      <th>max</th>\n",
              "      <td>0.316246</td>\n",
              "      <td>0.167670</td>\n",
              "      <td>0.130368</td>\n",
              "      <td>0.098672</td>\n",
              "    </tr>\n",
              "  </tbody>\n",
              "</table>\n",
              "</div>\n",
              "      <button class=\"colab-df-convert\" onclick=\"convertToInteractive('df-1b32d30e-6e07-4212-924e-d394b2ec7338')\"\n",
              "              title=\"Convert this dataframe to an interactive table.\"\n",
              "              style=\"display:none;\">\n",
              "        \n",
              "  <svg xmlns=\"http://www.w3.org/2000/svg\" height=\"24px\"viewBox=\"0 0 24 24\"\n",
              "       width=\"24px\">\n",
              "    <path d=\"M0 0h24v24H0V0z\" fill=\"none\"/>\n",
              "    <path d=\"M18.56 5.44l.94 2.06.94-2.06 2.06-.94-2.06-.94-.94-2.06-.94 2.06-2.06.94zm-11 1L8.5 8.5l.94-2.06 2.06-.94-2.06-.94L8.5 2.5l-.94 2.06-2.06.94zm10 10l.94 2.06.94-2.06 2.06-.94-2.06-.94-.94-2.06-.94 2.06-2.06.94z\"/><path d=\"M17.41 7.96l-1.37-1.37c-.4-.4-.92-.59-1.43-.59-.52 0-1.04.2-1.43.59L10.3 9.45l-7.72 7.72c-.78.78-.78 2.05 0 2.83L4 21.41c.39.39.9.59 1.41.59.51 0 1.02-.2 1.41-.59l7.78-7.78 2.81-2.81c.8-.78.8-2.07 0-2.86zM5.41 20L4 18.59l7.72-7.72 1.47 1.35L5.41 20z\"/>\n",
              "  </svg>\n",
              "      </button>\n",
              "      \n",
              "  <style>\n",
              "    .colab-df-container {\n",
              "      display:flex;\n",
              "      flex-wrap:wrap;\n",
              "      gap: 12px;\n",
              "    }\n",
              "\n",
              "    .colab-df-convert {\n",
              "      background-color: #E8F0FE;\n",
              "      border: none;\n",
              "      border-radius: 50%;\n",
              "      cursor: pointer;\n",
              "      display: none;\n",
              "      fill: #1967D2;\n",
              "      height: 32px;\n",
              "      padding: 0 0 0 0;\n",
              "      width: 32px;\n",
              "    }\n",
              "\n",
              "    .colab-df-convert:hover {\n",
              "      background-color: #E2EBFA;\n",
              "      box-shadow: 0px 1px 2px rgba(60, 64, 67, 0.3), 0px 1px 3px 1px rgba(60, 64, 67, 0.15);\n",
              "      fill: #174EA6;\n",
              "    }\n",
              "\n",
              "    [theme=dark] .colab-df-convert {\n",
              "      background-color: #3B4455;\n",
              "      fill: #D2E3FC;\n",
              "    }\n",
              "\n",
              "    [theme=dark] .colab-df-convert:hover {\n",
              "      background-color: #434B5C;\n",
              "      box-shadow: 0px 1px 3px 1px rgba(0, 0, 0, 0.15);\n",
              "      filter: drop-shadow(0px 1px 2px rgba(0, 0, 0, 0.3));\n",
              "      fill: #FFFFFF;\n",
              "    }\n",
              "  </style>\n",
              "\n",
              "      <script>\n",
              "        const buttonEl =\n",
              "          document.querySelector('#df-1b32d30e-6e07-4212-924e-d394b2ec7338 button.colab-df-convert');\n",
              "        buttonEl.style.display =\n",
              "          google.colab.kernel.accessAllowed ? 'block' : 'none';\n",
              "\n",
              "        async function convertToInteractive(key) {\n",
              "          const element = document.querySelector('#df-1b32d30e-6e07-4212-924e-d394b2ec7338');\n",
              "          const dataTable =\n",
              "            await google.colab.kernel.invokeFunction('convertToInteractive',\n",
              "                                                     [key], {});\n",
              "          if (!dataTable) return;\n",
              "\n",
              "          const docLinkHtml = 'Like what you see? Visit the ' +\n",
              "            '<a target=\"_blank\" href=https://colab.research.google.com/notebooks/data_table.ipynb>data table notebook</a>'\n",
              "            + ' to learn more about interactive tables.';\n",
              "          element.innerHTML = '';\n",
              "          dataTable['output_type'] = 'display_data';\n",
              "          await google.colab.output.renderOutput(dataTable, element);\n",
              "          const docLink = document.createElement('div');\n",
              "          docLink.innerHTML = docLinkHtml;\n",
              "          element.appendChild(docLink);\n",
              "        }\n",
              "      </script>\n",
              "    </div>\n",
              "  </div>\n",
              "  "
            ]
          },
          "metadata": {},
          "execution_count": 10
        }
      ]
    },
    {
      "cell_type": "markdown",
      "source": [
        "Con este código encontramos los estadisticos descriptivos, para de esta forma analizarlos. No obstante, en el siguiente codigo tenemos la curtosis y el sesgo."
      ],
      "metadata": {
        "id": "8dlJgsc6XTvd"
      }
    },
    {
      "cell_type": "code",
      "source": [
        "from scipy.stats import kurtosis\n",
        "from scipy.stats import skew\n",
        "descriptivos=pd.DataFrame({\n",
        "   \"Estadisticos\":[\"Media\",\"Mediana\",\"SD\",\"Curtosis\",\"Simetría\"],\n",
        "   \"GE\":[retornos[\"GE\"].mean(),retornos[\"GE\"].median(),retornos[\"GE\"].std(),retornos[\"GE\"].kurtosis(),retornos[\"GE\"].skew()],\n",
        "   \"IBM\":[retornos[\"IBM\"].mean(),retornos[\"IBM\"].median(),retornos[\"IBM\"].std(),retornos[\"IBM\"].kurtosis(),retornos[\"IBM\"].skew()],\n",
        "   \"MCD\":[retornos[\"MCD\"].mean(),retornos[\"MCD\"].median(),retornos[\"MCD\"].std(),retornos[\"MCD\"].kurtosis(),retornos[\"MCD\"].skew()],\n",
        "   \"T\":[retornos[\"T\"].mean(),retornos[\"T\"].median(),retornos[\"T\"].std(),retornos[\"T\"].kurtosis(),retornos[\"T\"].skew()]\n",
        "})\n",
        "descriptivos"
      ],
      "metadata": {
        "colab": {
          "base_uri": "https://localhost:8080/",
          "height": 206
        },
        "id": "uO-d2Uqrq9xQ",
        "outputId": "4163813a-d511-4ceb-af0f-3a4122b85778"
      },
      "execution_count": 22,
      "outputs": [
        {
          "output_type": "execute_result",
          "data": {
            "text/plain": [
              "  Estadisticos        GE       IBM       MCD         T\n",
              "0        Media  0.000231  0.003689  0.012605  0.006158\n",
              "1      Mediana -0.001930  0.002619  0.011742  0.006484\n",
              "2           SD  0.086937  0.060536  0.042488  0.048299\n",
              "3     Curtosis  3.040759  2.653578  1.597000  1.549809\n",
              "4     Simetría -0.088296 -0.564631 -0.410195 -0.707909"
            ],
            "text/html": [
              "\n",
              "  <div id=\"df-b8fa535e-eaa4-4e6e-8e39-f73cd04ae2df\">\n",
              "    <div class=\"colab-df-container\">\n",
              "      <div>\n",
              "<style scoped>\n",
              "    .dataframe tbody tr th:only-of-type {\n",
              "        vertical-align: middle;\n",
              "    }\n",
              "\n",
              "    .dataframe tbody tr th {\n",
              "        vertical-align: top;\n",
              "    }\n",
              "\n",
              "    .dataframe thead th {\n",
              "        text-align: right;\n",
              "    }\n",
              "</style>\n",
              "<table border=\"1\" class=\"dataframe\">\n",
              "  <thead>\n",
              "    <tr style=\"text-align: right;\">\n",
              "      <th></th>\n",
              "      <th>Estadisticos</th>\n",
              "      <th>GE</th>\n",
              "      <th>IBM</th>\n",
              "      <th>MCD</th>\n",
              "      <th>T</th>\n",
              "    </tr>\n",
              "  </thead>\n",
              "  <tbody>\n",
              "    <tr>\n",
              "      <th>0</th>\n",
              "      <td>Media</td>\n",
              "      <td>0.000231</td>\n",
              "      <td>0.003689</td>\n",
              "      <td>0.012605</td>\n",
              "      <td>0.006158</td>\n",
              "    </tr>\n",
              "    <tr>\n",
              "      <th>1</th>\n",
              "      <td>Mediana</td>\n",
              "      <td>-0.001930</td>\n",
              "      <td>0.002619</td>\n",
              "      <td>0.011742</td>\n",
              "      <td>0.006484</td>\n",
              "    </tr>\n",
              "    <tr>\n",
              "      <th>2</th>\n",
              "      <td>SD</td>\n",
              "      <td>0.086937</td>\n",
              "      <td>0.060536</td>\n",
              "      <td>0.042488</td>\n",
              "      <td>0.048299</td>\n",
              "    </tr>\n",
              "    <tr>\n",
              "      <th>3</th>\n",
              "      <td>Curtosis</td>\n",
              "      <td>3.040759</td>\n",
              "      <td>2.653578</td>\n",
              "      <td>1.597000</td>\n",
              "      <td>1.549809</td>\n",
              "    </tr>\n",
              "    <tr>\n",
              "      <th>4</th>\n",
              "      <td>Simetría</td>\n",
              "      <td>-0.088296</td>\n",
              "      <td>-0.564631</td>\n",
              "      <td>-0.410195</td>\n",
              "      <td>-0.707909</td>\n",
              "    </tr>\n",
              "  </tbody>\n",
              "</table>\n",
              "</div>\n",
              "      <button class=\"colab-df-convert\" onclick=\"convertToInteractive('df-b8fa535e-eaa4-4e6e-8e39-f73cd04ae2df')\"\n",
              "              title=\"Convert this dataframe to an interactive table.\"\n",
              "              style=\"display:none;\">\n",
              "        \n",
              "  <svg xmlns=\"http://www.w3.org/2000/svg\" height=\"24px\"viewBox=\"0 0 24 24\"\n",
              "       width=\"24px\">\n",
              "    <path d=\"M0 0h24v24H0V0z\" fill=\"none\"/>\n",
              "    <path d=\"M18.56 5.44l.94 2.06.94-2.06 2.06-.94-2.06-.94-.94-2.06-.94 2.06-2.06.94zm-11 1L8.5 8.5l.94-2.06 2.06-.94-2.06-.94L8.5 2.5l-.94 2.06-2.06.94zm10 10l.94 2.06.94-2.06 2.06-.94-2.06-.94-.94-2.06-.94 2.06-2.06.94z\"/><path d=\"M17.41 7.96l-1.37-1.37c-.4-.4-.92-.59-1.43-.59-.52 0-1.04.2-1.43.59L10.3 9.45l-7.72 7.72c-.78.78-.78 2.05 0 2.83L4 21.41c.39.39.9.59 1.41.59.51 0 1.02-.2 1.41-.59l7.78-7.78 2.81-2.81c.8-.78.8-2.07 0-2.86zM5.41 20L4 18.59l7.72-7.72 1.47 1.35L5.41 20z\"/>\n",
              "  </svg>\n",
              "      </button>\n",
              "      \n",
              "  <style>\n",
              "    .colab-df-container {\n",
              "      display:flex;\n",
              "      flex-wrap:wrap;\n",
              "      gap: 12px;\n",
              "    }\n",
              "\n",
              "    .colab-df-convert {\n",
              "      background-color: #E8F0FE;\n",
              "      border: none;\n",
              "      border-radius: 50%;\n",
              "      cursor: pointer;\n",
              "      display: none;\n",
              "      fill: #1967D2;\n",
              "      height: 32px;\n",
              "      padding: 0 0 0 0;\n",
              "      width: 32px;\n",
              "    }\n",
              "\n",
              "    .colab-df-convert:hover {\n",
              "      background-color: #E2EBFA;\n",
              "      box-shadow: 0px 1px 2px rgba(60, 64, 67, 0.3), 0px 1px 3px 1px rgba(60, 64, 67, 0.15);\n",
              "      fill: #174EA6;\n",
              "    }\n",
              "\n",
              "    [theme=dark] .colab-df-convert {\n",
              "      background-color: #3B4455;\n",
              "      fill: #D2E3FC;\n",
              "    }\n",
              "\n",
              "    [theme=dark] .colab-df-convert:hover {\n",
              "      background-color: #434B5C;\n",
              "      box-shadow: 0px 1px 3px 1px rgba(0, 0, 0, 0.15);\n",
              "      filter: drop-shadow(0px 1px 2px rgba(0, 0, 0, 0.3));\n",
              "      fill: #FFFFFF;\n",
              "    }\n",
              "  </style>\n",
              "\n",
              "      <script>\n",
              "        const buttonEl =\n",
              "          document.querySelector('#df-b8fa535e-eaa4-4e6e-8e39-f73cd04ae2df button.colab-df-convert');\n",
              "        buttonEl.style.display =\n",
              "          google.colab.kernel.accessAllowed ? 'block' : 'none';\n",
              "\n",
              "        async function convertToInteractive(key) {\n",
              "          const element = document.querySelector('#df-b8fa535e-eaa4-4e6e-8e39-f73cd04ae2df');\n",
              "          const dataTable =\n",
              "            await google.colab.kernel.invokeFunction('convertToInteractive',\n",
              "                                                     [key], {});\n",
              "          if (!dataTable) return;\n",
              "\n",
              "          const docLinkHtml = 'Like what you see? Visit the ' +\n",
              "            '<a target=\"_blank\" href=https://colab.research.google.com/notebooks/data_table.ipynb>data table notebook</a>'\n",
              "            + ' to learn more about interactive tables.';\n",
              "          element.innerHTML = '';\n",
              "          dataTable['output_type'] = 'display_data';\n",
              "          await google.colab.output.renderOutput(dataTable, element);\n",
              "          const docLink = document.createElement('div');\n",
              "          docLink.innerHTML = docLinkHtml;\n",
              "          element.appendChild(docLink);\n",
              "        }\n",
              "      </script>\n",
              "    </div>\n",
              "  </div>\n",
              "  "
            ]
          },
          "metadata": {},
          "execution_count": 22
        }
      ]
    },
    {
      "cell_type": "markdown",
      "source": [
        "Por lo consiguiente, se evidencia que se cumple el supuesto de los retornos continuos, donde el promedio debe ser 0, o muy cercano al mismo, ya que pueden haber retornos muy altos o muy bajos y se van cancelando."
      ],
      "metadata": {
        "id": "IJxh65m2YSHv"
      }
    },
    {
      "cell_type": "markdown",
      "source": [
        "Además, se debe tener presente que entre más cercana sea la mediana a la media, se puede deducir que puede tener una distribución normal."
      ],
      "metadata": {
        "id": "APZuTvGgYxZI"
      }
    },
    {
      "cell_type": "markdown",
      "source": [
        "Por otro lado, dado a la desviación estandar, se evidencia que el activo GE es el que tiene mayor variabilidad, y teniendo como supuesto que la variabilidad es igual a la volatilidad, el activo más volatil es GE y el menos volatil es MCD."
      ],
      "metadata": {
        "id": "2myyq4EGZZkf"
      }
    },
    {
      "cell_type": "markdown",
      "source": [
        "Asimismo, se evidencia que el activo GE es el unico que tiene una distribución leptocútica, ya que es mayor a 3, y los otros activos poseen una distribución mesocúrtica. Por otra parte, al investigar que nos da el comando Kurtosis, dice que entre más cercano a 0 el valor es un distribución normal, entonces, el activo más semejante a una distribución normal es T."
      ],
      "metadata": {
        "id": "FusexpU2a9Ji"
      }
    },
    {
      "cell_type": "markdown",
      "source": [
        "No obstante, al comparar la SD y la curtosis, se evidencia que el activo seguramente no tiene una distribución normal, ya que tiene la curtosis más alta y la SD más grande. "
      ],
      "metadata": {
        "id": "mG0jR53Bbzxa"
      }
    },
    {
      "cell_type": "markdown",
      "source": [
        "Por el lado del sesgo, evidencia que todas las acciones tiene una cola derecha, es decir un sesgo a derecha."
      ],
      "metadata": {
        "id": "CHCHHH52cRXV"
      }
    },
    {
      "cell_type": "code",
      "source": [
        "#c. Presente en un Data Frame los retornos esperados y las volatilidades anualizadas\n",
        "esperados = []\n",
        "volatilidades = []\n",
        "for i in range(0,143,13):\n",
        "  volatilidades.append(retornos[i:i+12].std())\n",
        "  esperados.append(retornos[i:i+12].mean())\n",
        "print(\"Los retornos esperados anualizados son = \",esperados)\n",
        "print(\"Las volatilidades esperados anualizados son = \",volatilidades)\n"
      ],
      "metadata": {
        "colab": {
          "base_uri": "https://localhost:8080/"
        },
        "id": "325tfDn-dAPm",
        "outputId": "1325e867-e917-4116-858e-99bcba179268"
      },
      "execution_count": 64,
      "outputs": [
        {
          "output_type": "stream",
          "name": "stdout",
          "text": [
            "Los retornos esperados anualizados son =  [GE     0.021076\n",
            "IBM    0.024945\n",
            "MCD    0.016470\n",
            "T      0.013751\n",
            "dtype: float64, GE    -0.004946\n",
            "IBM    0.017646\n",
            "MCD    0.025103\n",
            "T      0.012628\n",
            "dtype: float64, GE     0.014800\n",
            "IBM    0.003254\n",
            "MCD    0.004058\n",
            "T      0.019038\n",
            "dtype: float64, GE     0.018333\n",
            "IBM   -0.000828\n",
            "MCD    0.002096\n",
            "T      0.001642\n",
            "dtype: float64, GE     0.004409\n",
            "IBM   -0.004803\n",
            "MCD   -0.001806\n",
            "T      0.003793\n",
            "dtype: float64, GE     0.016865\n",
            "IBM   -0.002655\n",
            "MCD    0.021653\n",
            "T      0.022273\n",
            "dtype: float64, GE    -0.013658\n",
            "IBM   -0.005780\n",
            "MCD    0.025474\n",
            "T     -0.003538\n",
            "dtype: float64, GE    -0.050541\n",
            "IBM    0.005427\n",
            "MCD    0.003211\n",
            "T     -0.007182\n",
            "dtype: float64, GE    -0.015107\n",
            "IBM    0.000727\n",
            "MCD    0.022764\n",
            "T      0.016820\n",
            "dtype: float64, GE    -0.024280\n",
            "IBM   -0.010992\n",
            "MCD    0.008726\n",
            "T     -0.022665\n",
            "dtype: float64, GE     0.013092\n",
            "IBM    0.003486\n",
            "MCD    0.011728\n",
            "T     -0.011262\n",
            "dtype: float64]\n",
            "Las volatilidades esperados anualizados son =  [GE     0.104426\n",
            "IBM    0.045693\n",
            "MCD    0.038166\n",
            "T      0.044166\n",
            "dtype: float64, GE     0.067600\n",
            "IBM    0.033204\n",
            "MCD    0.025504\n",
            "T      0.039477\n",
            "dtype: float64, GE     0.048589\n",
            "IBM    0.045032\n",
            "MCD    0.042994\n",
            "T      0.042298\n",
            "dtype: float64, GE     0.052198\n",
            "IBM    0.046834\n",
            "MCD    0.030456\n",
            "T      0.043531\n",
            "dtype: float64, GE     0.046909\n",
            "IBM    0.055022\n",
            "MCD    0.031784\n",
            "T      0.037863\n",
            "dtype: float64, GE     0.059722\n",
            "IBM    0.067184\n",
            "MCD    0.054793\n",
            "T      0.037372\n",
            "dtype: float64, GE     0.035383\n",
            "IBM    0.044881\n",
            "MCD    0.032490\n",
            "T      0.051344\n",
            "dtype: float64, GE     0.061331\n",
            "IBM    0.038034\n",
            "MCD    0.042523\n",
            "T      0.065836\n",
            "dtype: float64, GE     0.156273\n",
            "IBM    0.117916\n",
            "MCD    0.032888\n",
            "T      0.058120\n",
            "dtype: float64, GE     0.138391\n",
            "IBM    0.073349\n",
            "MCD    0.079130\n",
            "T      0.064280\n",
            "dtype: float64, GE     0.066409\n",
            "IBM    0.058931\n",
            "MCD    0.035797\n",
            "T      0.042626\n",
            "dtype: float64]\n"
          ]
        }
      ]
    },
    {
      "cell_type": "code",
      "source": [
        "print(esperados[0][\"GE\"])\n",
        "activos = [\"MCD\", \"GE\",\"IBM\",\"T\"]\n",
        "GE = []\n",
        "IBM = []\n",
        "MCD = []\n",
        "T = []\n",
        "for i in range(11):\n",
        "  for a in activos:\n",
        "    if a == \"GE\": GE.append(esperados[i][a])\n",
        "    elif a == \"IBM\": IBM.append(esperados[i][a])\n",
        "    elif a == \"MCD\": MCD.append(esperados[i][a])\n",
        "    else: T.append(esperados[i][a])\n",
        "\n",
        "exvo=pd.DataFrame({\n",
        "    \"Esperados\":[\"1\",\"2\",\"3\",\"4\",\"5\",\"6\",\"7\",\"8\",\"9\",\"10\",\"11\"],\n",
        "    \"GE\":GE,\n",
        "    \"IBM\":IBM,\n",
        "    \"MCD\":MCD,\n",
        "    \"T\":T\n",
        "})\n",
        "exvo"
      ],
      "metadata": {
        "colab": {
          "base_uri": "https://localhost:8080/",
          "height": 412
        },
        "id": "8HAcdyldqGvb",
        "outputId": "baf5c2a5-2122-40f0-9059-42a62bced836"
      },
      "execution_count": 24,
      "outputs": [
        {
          "output_type": "stream",
          "name": "stdout",
          "text": [
            "0.02107554102633798\n"
          ]
        },
        {
          "output_type": "execute_result",
          "data": {
            "text/plain": [
              "   Esperados        GE       IBM       MCD         T\n",
              "0          1  0.021076  0.024945  0.016470  0.013751\n",
              "1          2 -0.004946  0.017646  0.025103  0.012628\n",
              "2          3  0.014800  0.003254  0.004058  0.019038\n",
              "3          4  0.018333 -0.000828  0.002096  0.001642\n",
              "4          5  0.004409 -0.004803 -0.001806  0.003793\n",
              "5          6  0.016865 -0.002655  0.021653  0.022273\n",
              "6          7 -0.013658 -0.005780  0.025474 -0.003538\n",
              "7          8 -0.050541  0.005427  0.003211 -0.007182\n",
              "8          9 -0.015107  0.000727  0.022764  0.016820\n",
              "9         10 -0.024280 -0.010992  0.008726 -0.022665\n",
              "10        11  0.013092  0.003486  0.011728 -0.011262"
            ],
            "text/html": [
              "\n",
              "  <div id=\"df-c88db5c3-9e17-45ff-9b55-282cc52a574c\">\n",
              "    <div class=\"colab-df-container\">\n",
              "      <div>\n",
              "<style scoped>\n",
              "    .dataframe tbody tr th:only-of-type {\n",
              "        vertical-align: middle;\n",
              "    }\n",
              "\n",
              "    .dataframe tbody tr th {\n",
              "        vertical-align: top;\n",
              "    }\n",
              "\n",
              "    .dataframe thead th {\n",
              "        text-align: right;\n",
              "    }\n",
              "</style>\n",
              "<table border=\"1\" class=\"dataframe\">\n",
              "  <thead>\n",
              "    <tr style=\"text-align: right;\">\n",
              "      <th></th>\n",
              "      <th>Esperados</th>\n",
              "      <th>GE</th>\n",
              "      <th>IBM</th>\n",
              "      <th>MCD</th>\n",
              "      <th>T</th>\n",
              "    </tr>\n",
              "  </thead>\n",
              "  <tbody>\n",
              "    <tr>\n",
              "      <th>0</th>\n",
              "      <td>1</td>\n",
              "      <td>0.021076</td>\n",
              "      <td>0.024945</td>\n",
              "      <td>0.016470</td>\n",
              "      <td>0.013751</td>\n",
              "    </tr>\n",
              "    <tr>\n",
              "      <th>1</th>\n",
              "      <td>2</td>\n",
              "      <td>-0.004946</td>\n",
              "      <td>0.017646</td>\n",
              "      <td>0.025103</td>\n",
              "      <td>0.012628</td>\n",
              "    </tr>\n",
              "    <tr>\n",
              "      <th>2</th>\n",
              "      <td>3</td>\n",
              "      <td>0.014800</td>\n",
              "      <td>0.003254</td>\n",
              "      <td>0.004058</td>\n",
              "      <td>0.019038</td>\n",
              "    </tr>\n",
              "    <tr>\n",
              "      <th>3</th>\n",
              "      <td>4</td>\n",
              "      <td>0.018333</td>\n",
              "      <td>-0.000828</td>\n",
              "      <td>0.002096</td>\n",
              "      <td>0.001642</td>\n",
              "    </tr>\n",
              "    <tr>\n",
              "      <th>4</th>\n",
              "      <td>5</td>\n",
              "      <td>0.004409</td>\n",
              "      <td>-0.004803</td>\n",
              "      <td>-0.001806</td>\n",
              "      <td>0.003793</td>\n",
              "    </tr>\n",
              "    <tr>\n",
              "      <th>5</th>\n",
              "      <td>6</td>\n",
              "      <td>0.016865</td>\n",
              "      <td>-0.002655</td>\n",
              "      <td>0.021653</td>\n",
              "      <td>0.022273</td>\n",
              "    </tr>\n",
              "    <tr>\n",
              "      <th>6</th>\n",
              "      <td>7</td>\n",
              "      <td>-0.013658</td>\n",
              "      <td>-0.005780</td>\n",
              "      <td>0.025474</td>\n",
              "      <td>-0.003538</td>\n",
              "    </tr>\n",
              "    <tr>\n",
              "      <th>7</th>\n",
              "      <td>8</td>\n",
              "      <td>-0.050541</td>\n",
              "      <td>0.005427</td>\n",
              "      <td>0.003211</td>\n",
              "      <td>-0.007182</td>\n",
              "    </tr>\n",
              "    <tr>\n",
              "      <th>8</th>\n",
              "      <td>9</td>\n",
              "      <td>-0.015107</td>\n",
              "      <td>0.000727</td>\n",
              "      <td>0.022764</td>\n",
              "      <td>0.016820</td>\n",
              "    </tr>\n",
              "    <tr>\n",
              "      <th>9</th>\n",
              "      <td>10</td>\n",
              "      <td>-0.024280</td>\n",
              "      <td>-0.010992</td>\n",
              "      <td>0.008726</td>\n",
              "      <td>-0.022665</td>\n",
              "    </tr>\n",
              "    <tr>\n",
              "      <th>10</th>\n",
              "      <td>11</td>\n",
              "      <td>0.013092</td>\n",
              "      <td>0.003486</td>\n",
              "      <td>0.011728</td>\n",
              "      <td>-0.011262</td>\n",
              "    </tr>\n",
              "  </tbody>\n",
              "</table>\n",
              "</div>\n",
              "      <button class=\"colab-df-convert\" onclick=\"convertToInteractive('df-c88db5c3-9e17-45ff-9b55-282cc52a574c')\"\n",
              "              title=\"Convert this dataframe to an interactive table.\"\n",
              "              style=\"display:none;\">\n",
              "        \n",
              "  <svg xmlns=\"http://www.w3.org/2000/svg\" height=\"24px\"viewBox=\"0 0 24 24\"\n",
              "       width=\"24px\">\n",
              "    <path d=\"M0 0h24v24H0V0z\" fill=\"none\"/>\n",
              "    <path d=\"M18.56 5.44l.94 2.06.94-2.06 2.06-.94-2.06-.94-.94-2.06-.94 2.06-2.06.94zm-11 1L8.5 8.5l.94-2.06 2.06-.94-2.06-.94L8.5 2.5l-.94 2.06-2.06.94zm10 10l.94 2.06.94-2.06 2.06-.94-2.06-.94-.94-2.06-.94 2.06-2.06.94z\"/><path d=\"M17.41 7.96l-1.37-1.37c-.4-.4-.92-.59-1.43-.59-.52 0-1.04.2-1.43.59L10.3 9.45l-7.72 7.72c-.78.78-.78 2.05 0 2.83L4 21.41c.39.39.9.59 1.41.59.51 0 1.02-.2 1.41-.59l7.78-7.78 2.81-2.81c.8-.78.8-2.07 0-2.86zM5.41 20L4 18.59l7.72-7.72 1.47 1.35L5.41 20z\"/>\n",
              "  </svg>\n",
              "      </button>\n",
              "      \n",
              "  <style>\n",
              "    .colab-df-container {\n",
              "      display:flex;\n",
              "      flex-wrap:wrap;\n",
              "      gap: 12px;\n",
              "    }\n",
              "\n",
              "    .colab-df-convert {\n",
              "      background-color: #E8F0FE;\n",
              "      border: none;\n",
              "      border-radius: 50%;\n",
              "      cursor: pointer;\n",
              "      display: none;\n",
              "      fill: #1967D2;\n",
              "      height: 32px;\n",
              "      padding: 0 0 0 0;\n",
              "      width: 32px;\n",
              "    }\n",
              "\n",
              "    .colab-df-convert:hover {\n",
              "      background-color: #E2EBFA;\n",
              "      box-shadow: 0px 1px 2px rgba(60, 64, 67, 0.3), 0px 1px 3px 1px rgba(60, 64, 67, 0.15);\n",
              "      fill: #174EA6;\n",
              "    }\n",
              "\n",
              "    [theme=dark] .colab-df-convert {\n",
              "      background-color: #3B4455;\n",
              "      fill: #D2E3FC;\n",
              "    }\n",
              "\n",
              "    [theme=dark] .colab-df-convert:hover {\n",
              "      background-color: #434B5C;\n",
              "      box-shadow: 0px 1px 3px 1px rgba(0, 0, 0, 0.15);\n",
              "      filter: drop-shadow(0px 1px 2px rgba(0, 0, 0, 0.3));\n",
              "      fill: #FFFFFF;\n",
              "    }\n",
              "  </style>\n",
              "\n",
              "      <script>\n",
              "        const buttonEl =\n",
              "          document.querySelector('#df-c88db5c3-9e17-45ff-9b55-282cc52a574c button.colab-df-convert');\n",
              "        buttonEl.style.display =\n",
              "          google.colab.kernel.accessAllowed ? 'block' : 'none';\n",
              "\n",
              "        async function convertToInteractive(key) {\n",
              "          const element = document.querySelector('#df-c88db5c3-9e17-45ff-9b55-282cc52a574c');\n",
              "          const dataTable =\n",
              "            await google.colab.kernel.invokeFunction('convertToInteractive',\n",
              "                                                     [key], {});\n",
              "          if (!dataTable) return;\n",
              "\n",
              "          const docLinkHtml = 'Like what you see? Visit the ' +\n",
              "            '<a target=\"_blank\" href=https://colab.research.google.com/notebooks/data_table.ipynb>data table notebook</a>'\n",
              "            + ' to learn more about interactive tables.';\n",
              "          element.innerHTML = '';\n",
              "          dataTable['output_type'] = 'display_data';\n",
              "          await google.colab.output.renderOutput(dataTable, element);\n",
              "          const docLink = document.createElement('div');\n",
              "          docLink.innerHTML = docLinkHtml;\n",
              "          element.appendChild(docLink);\n",
              "        }\n",
              "      </script>\n",
              "    </div>\n",
              "  </div>\n",
              "  "
            ]
          },
          "metadata": {},
          "execution_count": 24
        }
      ]
    },
    {
      "cell_type": "markdown",
      "source": [
        "Revisando los retornos esperados por cada año, se videncia que el activo con mayor retorno fue MCD en el año 2, es decir en el 2011, y el de menor retorno fue de GE en el año 2017, año 8."
      ],
      "metadata": {
        "id": "U4TRciTHfZSC"
      }
    },
    {
      "cell_type": "code",
      "source": [
        "print(volatilidades[0][\"GE\"])\n",
        "activos = [\"MCD\", \"GE\",\"IBM\",\"T\"]\n",
        "GE = []\n",
        "IBM = []\n",
        "MCD = []\n",
        "T = []\n",
        "for i in range(11):\n",
        "  for a in activos:\n",
        "    if a == \"GE\": GE.append(volatilidades[i][a])\n",
        "    elif a == \"IBM\": IBM.append(volatilidades[i][a])\n",
        "    elif a == \"MCD\": MCD.append(volatilidades[i][a])\n",
        "    else: T.append(volatilidades[i][a])\n",
        "\n",
        "exvo=pd.DataFrame({\n",
        "    \"volatilidades\":[\"1\",\"2\",\"3\",\"4\",\"5\",\"6\",\"7\",\"8\",\"9\",\"10\",\"11\"],\n",
        "    \"GE\":GE,\n",
        "    \"IBM\":IBM,\n",
        "    \"MCD\":MCD,\n",
        "    \"T\":T\n",
        "})\n",
        "exvo"
      ],
      "metadata": {
        "colab": {
          "base_uri": "https://localhost:8080/",
          "height": 412
        },
        "id": "V7u8qCaLfB0w",
        "outputId": "10e36d4c-c5d4-409b-c745-777b2a2a1a6f"
      },
      "execution_count": 25,
      "outputs": [
        {
          "output_type": "stream",
          "name": "stdout",
          "text": [
            "0.10442647145720403\n"
          ]
        },
        {
          "output_type": "execute_result",
          "data": {
            "text/plain": [
              "   volatilidades        GE       IBM       MCD         T\n",
              "0              1  0.104426  0.045693  0.038166  0.044166\n",
              "1              2  0.067600  0.033204  0.025504  0.039477\n",
              "2              3  0.048589  0.045033  0.042994  0.042298\n",
              "3              4  0.052198  0.046834  0.030456  0.043531\n",
              "4              5  0.046909  0.055022  0.031784  0.037863\n",
              "5              6  0.059722  0.067184  0.054793  0.037372\n",
              "6              7  0.035383  0.044881  0.032490  0.051344\n",
              "7              8  0.061331  0.038034  0.042523  0.065836\n",
              "8              9  0.156273  0.117916  0.032888  0.058120\n",
              "9             10  0.138391  0.073349  0.079130  0.064280\n",
              "10            11  0.066409  0.058931  0.035797  0.042626"
            ],
            "text/html": [
              "\n",
              "  <div id=\"df-a8c74c5f-e475-4c74-9b04-99d00dc1c044\">\n",
              "    <div class=\"colab-df-container\">\n",
              "      <div>\n",
              "<style scoped>\n",
              "    .dataframe tbody tr th:only-of-type {\n",
              "        vertical-align: middle;\n",
              "    }\n",
              "\n",
              "    .dataframe tbody tr th {\n",
              "        vertical-align: top;\n",
              "    }\n",
              "\n",
              "    .dataframe thead th {\n",
              "        text-align: right;\n",
              "    }\n",
              "</style>\n",
              "<table border=\"1\" class=\"dataframe\">\n",
              "  <thead>\n",
              "    <tr style=\"text-align: right;\">\n",
              "      <th></th>\n",
              "      <th>volatilidades</th>\n",
              "      <th>GE</th>\n",
              "      <th>IBM</th>\n",
              "      <th>MCD</th>\n",
              "      <th>T</th>\n",
              "    </tr>\n",
              "  </thead>\n",
              "  <tbody>\n",
              "    <tr>\n",
              "      <th>0</th>\n",
              "      <td>1</td>\n",
              "      <td>0.104426</td>\n",
              "      <td>0.045693</td>\n",
              "      <td>0.038166</td>\n",
              "      <td>0.044166</td>\n",
              "    </tr>\n",
              "    <tr>\n",
              "      <th>1</th>\n",
              "      <td>2</td>\n",
              "      <td>0.067600</td>\n",
              "      <td>0.033204</td>\n",
              "      <td>0.025504</td>\n",
              "      <td>0.039477</td>\n",
              "    </tr>\n",
              "    <tr>\n",
              "      <th>2</th>\n",
              "      <td>3</td>\n",
              "      <td>0.048589</td>\n",
              "      <td>0.045033</td>\n",
              "      <td>0.042994</td>\n",
              "      <td>0.042298</td>\n",
              "    </tr>\n",
              "    <tr>\n",
              "      <th>3</th>\n",
              "      <td>4</td>\n",
              "      <td>0.052198</td>\n",
              "      <td>0.046834</td>\n",
              "      <td>0.030456</td>\n",
              "      <td>0.043531</td>\n",
              "    </tr>\n",
              "    <tr>\n",
              "      <th>4</th>\n",
              "      <td>5</td>\n",
              "      <td>0.046909</td>\n",
              "      <td>0.055022</td>\n",
              "      <td>0.031784</td>\n",
              "      <td>0.037863</td>\n",
              "    </tr>\n",
              "    <tr>\n",
              "      <th>5</th>\n",
              "      <td>6</td>\n",
              "      <td>0.059722</td>\n",
              "      <td>0.067184</td>\n",
              "      <td>0.054793</td>\n",
              "      <td>0.037372</td>\n",
              "    </tr>\n",
              "    <tr>\n",
              "      <th>6</th>\n",
              "      <td>7</td>\n",
              "      <td>0.035383</td>\n",
              "      <td>0.044881</td>\n",
              "      <td>0.032490</td>\n",
              "      <td>0.051344</td>\n",
              "    </tr>\n",
              "    <tr>\n",
              "      <th>7</th>\n",
              "      <td>8</td>\n",
              "      <td>0.061331</td>\n",
              "      <td>0.038034</td>\n",
              "      <td>0.042523</td>\n",
              "      <td>0.065836</td>\n",
              "    </tr>\n",
              "    <tr>\n",
              "      <th>8</th>\n",
              "      <td>9</td>\n",
              "      <td>0.156273</td>\n",
              "      <td>0.117916</td>\n",
              "      <td>0.032888</td>\n",
              "      <td>0.058120</td>\n",
              "    </tr>\n",
              "    <tr>\n",
              "      <th>9</th>\n",
              "      <td>10</td>\n",
              "      <td>0.138391</td>\n",
              "      <td>0.073349</td>\n",
              "      <td>0.079130</td>\n",
              "      <td>0.064280</td>\n",
              "    </tr>\n",
              "    <tr>\n",
              "      <th>10</th>\n",
              "      <td>11</td>\n",
              "      <td>0.066409</td>\n",
              "      <td>0.058931</td>\n",
              "      <td>0.035797</td>\n",
              "      <td>0.042626</td>\n",
              "    </tr>\n",
              "  </tbody>\n",
              "</table>\n",
              "</div>\n",
              "      <button class=\"colab-df-convert\" onclick=\"convertToInteractive('df-a8c74c5f-e475-4c74-9b04-99d00dc1c044')\"\n",
              "              title=\"Convert this dataframe to an interactive table.\"\n",
              "              style=\"display:none;\">\n",
              "        \n",
              "  <svg xmlns=\"http://www.w3.org/2000/svg\" height=\"24px\"viewBox=\"0 0 24 24\"\n",
              "       width=\"24px\">\n",
              "    <path d=\"M0 0h24v24H0V0z\" fill=\"none\"/>\n",
              "    <path d=\"M18.56 5.44l.94 2.06.94-2.06 2.06-.94-2.06-.94-.94-2.06-.94 2.06-2.06.94zm-11 1L8.5 8.5l.94-2.06 2.06-.94-2.06-.94L8.5 2.5l-.94 2.06-2.06.94zm10 10l.94 2.06.94-2.06 2.06-.94-2.06-.94-.94-2.06-.94 2.06-2.06.94z\"/><path d=\"M17.41 7.96l-1.37-1.37c-.4-.4-.92-.59-1.43-.59-.52 0-1.04.2-1.43.59L10.3 9.45l-7.72 7.72c-.78.78-.78 2.05 0 2.83L4 21.41c.39.39.9.59 1.41.59.51 0 1.02-.2 1.41-.59l7.78-7.78 2.81-2.81c.8-.78.8-2.07 0-2.86zM5.41 20L4 18.59l7.72-7.72 1.47 1.35L5.41 20z\"/>\n",
              "  </svg>\n",
              "      </button>\n",
              "      \n",
              "  <style>\n",
              "    .colab-df-container {\n",
              "      display:flex;\n",
              "      flex-wrap:wrap;\n",
              "      gap: 12px;\n",
              "    }\n",
              "\n",
              "    .colab-df-convert {\n",
              "      background-color: #E8F0FE;\n",
              "      border: none;\n",
              "      border-radius: 50%;\n",
              "      cursor: pointer;\n",
              "      display: none;\n",
              "      fill: #1967D2;\n",
              "      height: 32px;\n",
              "      padding: 0 0 0 0;\n",
              "      width: 32px;\n",
              "    }\n",
              "\n",
              "    .colab-df-convert:hover {\n",
              "      background-color: #E2EBFA;\n",
              "      box-shadow: 0px 1px 2px rgba(60, 64, 67, 0.3), 0px 1px 3px 1px rgba(60, 64, 67, 0.15);\n",
              "      fill: #174EA6;\n",
              "    }\n",
              "\n",
              "    [theme=dark] .colab-df-convert {\n",
              "      background-color: #3B4455;\n",
              "      fill: #D2E3FC;\n",
              "    }\n",
              "\n",
              "    [theme=dark] .colab-df-convert:hover {\n",
              "      background-color: #434B5C;\n",
              "      box-shadow: 0px 1px 3px 1px rgba(0, 0, 0, 0.15);\n",
              "      filter: drop-shadow(0px 1px 2px rgba(0, 0, 0, 0.3));\n",
              "      fill: #FFFFFF;\n",
              "    }\n",
              "  </style>\n",
              "\n",
              "      <script>\n",
              "        const buttonEl =\n",
              "          document.querySelector('#df-a8c74c5f-e475-4c74-9b04-99d00dc1c044 button.colab-df-convert');\n",
              "        buttonEl.style.display =\n",
              "          google.colab.kernel.accessAllowed ? 'block' : 'none';\n",
              "\n",
              "        async function convertToInteractive(key) {\n",
              "          const element = document.querySelector('#df-a8c74c5f-e475-4c74-9b04-99d00dc1c044');\n",
              "          const dataTable =\n",
              "            await google.colab.kernel.invokeFunction('convertToInteractive',\n",
              "                                                     [key], {});\n",
              "          if (!dataTable) return;\n",
              "\n",
              "          const docLinkHtml = 'Like what you see? Visit the ' +\n",
              "            '<a target=\"_blank\" href=https://colab.research.google.com/notebooks/data_table.ipynb>data table notebook</a>'\n",
              "            + ' to learn more about interactive tables.';\n",
              "          element.innerHTML = '';\n",
              "          dataTable['output_type'] = 'display_data';\n",
              "          await google.colab.output.renderOutput(dataTable, element);\n",
              "          const docLink = document.createElement('div');\n",
              "          docLink.innerHTML = docLinkHtml;\n",
              "          element.appendChild(docLink);\n",
              "        }\n",
              "      </script>\n",
              "    </div>\n",
              "  </div>\n",
              "  "
            ]
          },
          "metadata": {},
          "execution_count": 25
        }
      ]
    },
    {
      "cell_type": "markdown",
      "source": [
        "Por lo tanto, el activo más volatil es el GE en el año 9, 2018, ya que tiene un 15.6% de desviación estandar, y el menos volatil fue MCD en el año 2, 2011 con una desviación estandar de 2.6%."
      ],
      "metadata": {
        "id": "dRGAizbXgRvC"
      }
    },
    {
      "cell_type": "code",
      "source": [
        "espe,vol=retornos.mean(),retornos.std()\n",
        "espe,vol\n",
        "espe*12,vol*np.sqrt(12)"
      ],
      "metadata": {
        "colab": {
          "base_uri": "https://localhost:8080/"
        },
        "id": "ttaWERN2qJVG",
        "outputId": "8ca8854e-da94-4f6e-a1f0-7fcb59527a23"
      },
      "execution_count": 26,
      "outputs": [
        {
          "output_type": "execute_result",
          "data": {
            "text/plain": [
              "(GE     0.002777\n",
              " IBM    0.044271\n",
              " MCD    0.151265\n",
              " T      0.073894\n",
              " dtype: float64, GE     0.301157\n",
              " IBM    0.209703\n",
              " MCD    0.147183\n",
              " T      0.167311\n",
              " dtype: float64)"
            ]
          },
          "metadata": {},
          "execution_count": 26
        }
      ]
    },
    {
      "cell_type": "code",
      "source": [
        "voex=pd.DataFrame({\n",
        "    \"Punto_3\":[\"Esperados\",\"Volatilidad\"],\n",
        "    \"GE\":[0.002777,0.301157],\n",
        "    \"IBM\":[0.044271,0.209703],\n",
        "    \"MCD\":[ 0.151265, 0.147183],\n",
        "    \"T\":[0.073894, 0.167311]\n",
        "})\n",
        "voex"
      ],
      "metadata": {
        "colab": {
          "base_uri": "https://localhost:8080/",
          "height": 112
        },
        "id": "M29tDR4WqNnc",
        "outputId": "a57da707-c14e-425c-a6d6-e745d76d0c02"
      },
      "execution_count": 27,
      "outputs": [
        {
          "output_type": "execute_result",
          "data": {
            "text/plain": [
              "       Punto_3        GE       IBM       MCD         T\n",
              "0    Esperados  0.002777  0.044271  0.151265  0.073894\n",
              "1  Volatilidad  0.301157  0.209703  0.147183  0.167311"
            ],
            "text/html": [
              "\n",
              "  <div id=\"df-11d57ac3-ec7b-42fa-8b2e-e4c3312f3f59\">\n",
              "    <div class=\"colab-df-container\">\n",
              "      <div>\n",
              "<style scoped>\n",
              "    .dataframe tbody tr th:only-of-type {\n",
              "        vertical-align: middle;\n",
              "    }\n",
              "\n",
              "    .dataframe tbody tr th {\n",
              "        vertical-align: top;\n",
              "    }\n",
              "\n",
              "    .dataframe thead th {\n",
              "        text-align: right;\n",
              "    }\n",
              "</style>\n",
              "<table border=\"1\" class=\"dataframe\">\n",
              "  <thead>\n",
              "    <tr style=\"text-align: right;\">\n",
              "      <th></th>\n",
              "      <th>Punto_3</th>\n",
              "      <th>GE</th>\n",
              "      <th>IBM</th>\n",
              "      <th>MCD</th>\n",
              "      <th>T</th>\n",
              "    </tr>\n",
              "  </thead>\n",
              "  <tbody>\n",
              "    <tr>\n",
              "      <th>0</th>\n",
              "      <td>Esperados</td>\n",
              "      <td>0.002777</td>\n",
              "      <td>0.044271</td>\n",
              "      <td>0.151265</td>\n",
              "      <td>0.073894</td>\n",
              "    </tr>\n",
              "    <tr>\n",
              "      <th>1</th>\n",
              "      <td>Volatilidad</td>\n",
              "      <td>0.301157</td>\n",
              "      <td>0.209703</td>\n",
              "      <td>0.147183</td>\n",
              "      <td>0.167311</td>\n",
              "    </tr>\n",
              "  </tbody>\n",
              "</table>\n",
              "</div>\n",
              "      <button class=\"colab-df-convert\" onclick=\"convertToInteractive('df-11d57ac3-ec7b-42fa-8b2e-e4c3312f3f59')\"\n",
              "              title=\"Convert this dataframe to an interactive table.\"\n",
              "              style=\"display:none;\">\n",
              "        \n",
              "  <svg xmlns=\"http://www.w3.org/2000/svg\" height=\"24px\"viewBox=\"0 0 24 24\"\n",
              "       width=\"24px\">\n",
              "    <path d=\"M0 0h24v24H0V0z\" fill=\"none\"/>\n",
              "    <path d=\"M18.56 5.44l.94 2.06.94-2.06 2.06-.94-2.06-.94-.94-2.06-.94 2.06-2.06.94zm-11 1L8.5 8.5l.94-2.06 2.06-.94-2.06-.94L8.5 2.5l-.94 2.06-2.06.94zm10 10l.94 2.06.94-2.06 2.06-.94-2.06-.94-.94-2.06-.94 2.06-2.06.94z\"/><path d=\"M17.41 7.96l-1.37-1.37c-.4-.4-.92-.59-1.43-.59-.52 0-1.04.2-1.43.59L10.3 9.45l-7.72 7.72c-.78.78-.78 2.05 0 2.83L4 21.41c.39.39.9.59 1.41.59.51 0 1.02-.2 1.41-.59l7.78-7.78 2.81-2.81c.8-.78.8-2.07 0-2.86zM5.41 20L4 18.59l7.72-7.72 1.47 1.35L5.41 20z\"/>\n",
              "  </svg>\n",
              "      </button>\n",
              "      \n",
              "  <style>\n",
              "    .colab-df-container {\n",
              "      display:flex;\n",
              "      flex-wrap:wrap;\n",
              "      gap: 12px;\n",
              "    }\n",
              "\n",
              "    .colab-df-convert {\n",
              "      background-color: #E8F0FE;\n",
              "      border: none;\n",
              "      border-radius: 50%;\n",
              "      cursor: pointer;\n",
              "      display: none;\n",
              "      fill: #1967D2;\n",
              "      height: 32px;\n",
              "      padding: 0 0 0 0;\n",
              "      width: 32px;\n",
              "    }\n",
              "\n",
              "    .colab-df-convert:hover {\n",
              "      background-color: #E2EBFA;\n",
              "      box-shadow: 0px 1px 2px rgba(60, 64, 67, 0.3), 0px 1px 3px 1px rgba(60, 64, 67, 0.15);\n",
              "      fill: #174EA6;\n",
              "    }\n",
              "\n",
              "    [theme=dark] .colab-df-convert {\n",
              "      background-color: #3B4455;\n",
              "      fill: #D2E3FC;\n",
              "    }\n",
              "\n",
              "    [theme=dark] .colab-df-convert:hover {\n",
              "      background-color: #434B5C;\n",
              "      box-shadow: 0px 1px 3px 1px rgba(0, 0, 0, 0.15);\n",
              "      filter: drop-shadow(0px 1px 2px rgba(0, 0, 0, 0.3));\n",
              "      fill: #FFFFFF;\n",
              "    }\n",
              "  </style>\n",
              "\n",
              "      <script>\n",
              "        const buttonEl =\n",
              "          document.querySelector('#df-11d57ac3-ec7b-42fa-8b2e-e4c3312f3f59 button.colab-df-convert');\n",
              "        buttonEl.style.display =\n",
              "          google.colab.kernel.accessAllowed ? 'block' : 'none';\n",
              "\n",
              "        async function convertToInteractive(key) {\n",
              "          const element = document.querySelector('#df-11d57ac3-ec7b-42fa-8b2e-e4c3312f3f59');\n",
              "          const dataTable =\n",
              "            await google.colab.kernel.invokeFunction('convertToInteractive',\n",
              "                                                     [key], {});\n",
              "          if (!dataTable) return;\n",
              "\n",
              "          const docLinkHtml = 'Like what you see? Visit the ' +\n",
              "            '<a target=\"_blank\" href=https://colab.research.google.com/notebooks/data_table.ipynb>data table notebook</a>'\n",
              "            + ' to learn more about interactive tables.';\n",
              "          element.innerHTML = '';\n",
              "          dataTable['output_type'] = 'display_data';\n",
              "          await google.colab.output.renderOutput(dataTable, element);\n",
              "          const docLink = document.createElement('div');\n",
              "          docLink.innerHTML = docLinkHtml;\n",
              "          element.appendChild(docLink);\n",
              "        }\n",
              "      </script>\n",
              "    </div>\n",
              "  </div>\n",
              "  "
            ]
          },
          "metadata": {},
          "execution_count": 27
        }
      ]
    },
    {
      "cell_type": "markdown",
      "source": [
        "Acá lo usamos como si todo fuera constante, entonces el retorno más alto due el de MCD, que coincide con lo anterior, y el menor es GE que también coincide con el anterior.\n",
        "\n",
        "Sobre la volatilidad, la acción más volatil es GE y el menos volatilidad MCD, que tiene los mismo resultados anteriores."
      ],
      "metadata": {
        "id": "AmyiCyIbrPCH"
      }
    },
    {
      "cell_type": "code",
      "source": [
        "import scipy.stats as stats\n",
        "import pylab as py"
      ],
      "metadata": {
        "id": "_fz6E1m_hgXb"
      },
      "execution_count": 28,
      "outputs": []
    },
    {
      "cell_type": "code",
      "source": [
        "#d. Calcule la matriz de correlaciones de Pearson y de Sperman\n",
        "retornos.corr(method=\"pearson\")"
      ],
      "metadata": {
        "colab": {
          "base_uri": "https://localhost:8080/",
          "height": 175
        },
        "id": "auDB-Oyoihv8",
        "outputId": "a43a7fb5-f152-489e-b5d7-9245f89df6dd"
      },
      "execution_count": 29,
      "outputs": [
        {
          "output_type": "execute_result",
          "data": {
            "text/plain": [
              "           GE       IBM       MCD         T\n",
              "GE   1.000000  0.363578  0.151318  0.346994\n",
              "IBM  0.363578  1.000000  0.322564  0.412458\n",
              "MCD  0.151318  0.322564  1.000000  0.338351\n",
              "T    0.346994  0.412458  0.338351  1.000000"
            ],
            "text/html": [
              "\n",
              "  <div id=\"df-03449a89-464f-44c4-a308-c5d549266cfc\">\n",
              "    <div class=\"colab-df-container\">\n",
              "      <div>\n",
              "<style scoped>\n",
              "    .dataframe tbody tr th:only-of-type {\n",
              "        vertical-align: middle;\n",
              "    }\n",
              "\n",
              "    .dataframe tbody tr th {\n",
              "        vertical-align: top;\n",
              "    }\n",
              "\n",
              "    .dataframe thead th {\n",
              "        text-align: right;\n",
              "    }\n",
              "</style>\n",
              "<table border=\"1\" class=\"dataframe\">\n",
              "  <thead>\n",
              "    <tr style=\"text-align: right;\">\n",
              "      <th></th>\n",
              "      <th>GE</th>\n",
              "      <th>IBM</th>\n",
              "      <th>MCD</th>\n",
              "      <th>T</th>\n",
              "    </tr>\n",
              "  </thead>\n",
              "  <tbody>\n",
              "    <tr>\n",
              "      <th>GE</th>\n",
              "      <td>1.000000</td>\n",
              "      <td>0.363578</td>\n",
              "      <td>0.151318</td>\n",
              "      <td>0.346994</td>\n",
              "    </tr>\n",
              "    <tr>\n",
              "      <th>IBM</th>\n",
              "      <td>0.363578</td>\n",
              "      <td>1.000000</td>\n",
              "      <td>0.322564</td>\n",
              "      <td>0.412458</td>\n",
              "    </tr>\n",
              "    <tr>\n",
              "      <th>MCD</th>\n",
              "      <td>0.151318</td>\n",
              "      <td>0.322564</td>\n",
              "      <td>1.000000</td>\n",
              "      <td>0.338351</td>\n",
              "    </tr>\n",
              "    <tr>\n",
              "      <th>T</th>\n",
              "      <td>0.346994</td>\n",
              "      <td>0.412458</td>\n",
              "      <td>0.338351</td>\n",
              "      <td>1.000000</td>\n",
              "    </tr>\n",
              "  </tbody>\n",
              "</table>\n",
              "</div>\n",
              "      <button class=\"colab-df-convert\" onclick=\"convertToInteractive('df-03449a89-464f-44c4-a308-c5d549266cfc')\"\n",
              "              title=\"Convert this dataframe to an interactive table.\"\n",
              "              style=\"display:none;\">\n",
              "        \n",
              "  <svg xmlns=\"http://www.w3.org/2000/svg\" height=\"24px\"viewBox=\"0 0 24 24\"\n",
              "       width=\"24px\">\n",
              "    <path d=\"M0 0h24v24H0V0z\" fill=\"none\"/>\n",
              "    <path d=\"M18.56 5.44l.94 2.06.94-2.06 2.06-.94-2.06-.94-.94-2.06-.94 2.06-2.06.94zm-11 1L8.5 8.5l.94-2.06 2.06-.94-2.06-.94L8.5 2.5l-.94 2.06-2.06.94zm10 10l.94 2.06.94-2.06 2.06-.94-2.06-.94-.94-2.06-.94 2.06-2.06.94z\"/><path d=\"M17.41 7.96l-1.37-1.37c-.4-.4-.92-.59-1.43-.59-.52 0-1.04.2-1.43.59L10.3 9.45l-7.72 7.72c-.78.78-.78 2.05 0 2.83L4 21.41c.39.39.9.59 1.41.59.51 0 1.02-.2 1.41-.59l7.78-7.78 2.81-2.81c.8-.78.8-2.07 0-2.86zM5.41 20L4 18.59l7.72-7.72 1.47 1.35L5.41 20z\"/>\n",
              "  </svg>\n",
              "      </button>\n",
              "      \n",
              "  <style>\n",
              "    .colab-df-container {\n",
              "      display:flex;\n",
              "      flex-wrap:wrap;\n",
              "      gap: 12px;\n",
              "    }\n",
              "\n",
              "    .colab-df-convert {\n",
              "      background-color: #E8F0FE;\n",
              "      border: none;\n",
              "      border-radius: 50%;\n",
              "      cursor: pointer;\n",
              "      display: none;\n",
              "      fill: #1967D2;\n",
              "      height: 32px;\n",
              "      padding: 0 0 0 0;\n",
              "      width: 32px;\n",
              "    }\n",
              "\n",
              "    .colab-df-convert:hover {\n",
              "      background-color: #E2EBFA;\n",
              "      box-shadow: 0px 1px 2px rgba(60, 64, 67, 0.3), 0px 1px 3px 1px rgba(60, 64, 67, 0.15);\n",
              "      fill: #174EA6;\n",
              "    }\n",
              "\n",
              "    [theme=dark] .colab-df-convert {\n",
              "      background-color: #3B4455;\n",
              "      fill: #D2E3FC;\n",
              "    }\n",
              "\n",
              "    [theme=dark] .colab-df-convert:hover {\n",
              "      background-color: #434B5C;\n",
              "      box-shadow: 0px 1px 3px 1px rgba(0, 0, 0, 0.15);\n",
              "      filter: drop-shadow(0px 1px 2px rgba(0, 0, 0, 0.3));\n",
              "      fill: #FFFFFF;\n",
              "    }\n",
              "  </style>\n",
              "\n",
              "      <script>\n",
              "        const buttonEl =\n",
              "          document.querySelector('#df-03449a89-464f-44c4-a308-c5d549266cfc button.colab-df-convert');\n",
              "        buttonEl.style.display =\n",
              "          google.colab.kernel.accessAllowed ? 'block' : 'none';\n",
              "\n",
              "        async function convertToInteractive(key) {\n",
              "          const element = document.querySelector('#df-03449a89-464f-44c4-a308-c5d549266cfc');\n",
              "          const dataTable =\n",
              "            await google.colab.kernel.invokeFunction('convertToInteractive',\n",
              "                                                     [key], {});\n",
              "          if (!dataTable) return;\n",
              "\n",
              "          const docLinkHtml = 'Like what you see? Visit the ' +\n",
              "            '<a target=\"_blank\" href=https://colab.research.google.com/notebooks/data_table.ipynb>data table notebook</a>'\n",
              "            + ' to learn more about interactive tables.';\n",
              "          element.innerHTML = '';\n",
              "          dataTable['output_type'] = 'display_data';\n",
              "          await google.colab.output.renderOutput(dataTable, element);\n",
              "          const docLink = document.createElement('div');\n",
              "          docLink.innerHTML = docLinkHtml;\n",
              "          element.appendChild(docLink);\n",
              "        }\n",
              "      </script>\n",
              "    </div>\n",
              "  </div>\n",
              "  "
            ]
          },
          "metadata": {},
          "execution_count": 29
        }
      ]
    },
    {
      "cell_type": "markdown",
      "source": [
        "Se evidencia que las acciones con mayor correlación positiva o directa son los activos T y IBM, mas, no es que sea muy fuerte su correlación. Por otro lado, no hay correlación inversa o negativa, entonces la menor correlación directa es entre los activos es MCD y GE."
      ],
      "metadata": {
        "id": "X30SZir0hZyM"
      }
    },
    {
      "cell_type": "code",
      "source": [
        "retornos.corr(method=\"spearman\")"
      ],
      "metadata": {
        "colab": {
          "base_uri": "https://localhost:8080/",
          "height": 175
        },
        "id": "VlZ1ZeFjlw-l",
        "outputId": "217c5491-e079-4458-e9ad-7c5c432cad91"
      },
      "execution_count": 30,
      "outputs": [
        {
          "output_type": "execute_result",
          "data": {
            "text/plain": [
              "           GE       IBM       MCD         T\n",
              "GE   1.000000  0.343396  0.091615  0.312855\n",
              "IBM  0.343396  1.000000  0.260223  0.358745\n",
              "MCD  0.091615  0.260223  1.000000  0.299497\n",
              "T    0.312855  0.358745  0.299497  1.000000"
            ],
            "text/html": [
              "\n",
              "  <div id=\"df-7152cbc3-8499-4f79-b9f8-b1b053c17e84\">\n",
              "    <div class=\"colab-df-container\">\n",
              "      <div>\n",
              "<style scoped>\n",
              "    .dataframe tbody tr th:only-of-type {\n",
              "        vertical-align: middle;\n",
              "    }\n",
              "\n",
              "    .dataframe tbody tr th {\n",
              "        vertical-align: top;\n",
              "    }\n",
              "\n",
              "    .dataframe thead th {\n",
              "        text-align: right;\n",
              "    }\n",
              "</style>\n",
              "<table border=\"1\" class=\"dataframe\">\n",
              "  <thead>\n",
              "    <tr style=\"text-align: right;\">\n",
              "      <th></th>\n",
              "      <th>GE</th>\n",
              "      <th>IBM</th>\n",
              "      <th>MCD</th>\n",
              "      <th>T</th>\n",
              "    </tr>\n",
              "  </thead>\n",
              "  <tbody>\n",
              "    <tr>\n",
              "      <th>GE</th>\n",
              "      <td>1.000000</td>\n",
              "      <td>0.343396</td>\n",
              "      <td>0.091615</td>\n",
              "      <td>0.312855</td>\n",
              "    </tr>\n",
              "    <tr>\n",
              "      <th>IBM</th>\n",
              "      <td>0.343396</td>\n",
              "      <td>1.000000</td>\n",
              "      <td>0.260223</td>\n",
              "      <td>0.358745</td>\n",
              "    </tr>\n",
              "    <tr>\n",
              "      <th>MCD</th>\n",
              "      <td>0.091615</td>\n",
              "      <td>0.260223</td>\n",
              "      <td>1.000000</td>\n",
              "      <td>0.299497</td>\n",
              "    </tr>\n",
              "    <tr>\n",
              "      <th>T</th>\n",
              "      <td>0.312855</td>\n",
              "      <td>0.358745</td>\n",
              "      <td>0.299497</td>\n",
              "      <td>1.000000</td>\n",
              "    </tr>\n",
              "  </tbody>\n",
              "</table>\n",
              "</div>\n",
              "      <button class=\"colab-df-convert\" onclick=\"convertToInteractive('df-7152cbc3-8499-4f79-b9f8-b1b053c17e84')\"\n",
              "              title=\"Convert this dataframe to an interactive table.\"\n",
              "              style=\"display:none;\">\n",
              "        \n",
              "  <svg xmlns=\"http://www.w3.org/2000/svg\" height=\"24px\"viewBox=\"0 0 24 24\"\n",
              "       width=\"24px\">\n",
              "    <path d=\"M0 0h24v24H0V0z\" fill=\"none\"/>\n",
              "    <path d=\"M18.56 5.44l.94 2.06.94-2.06 2.06-.94-2.06-.94-.94-2.06-.94 2.06-2.06.94zm-11 1L8.5 8.5l.94-2.06 2.06-.94-2.06-.94L8.5 2.5l-.94 2.06-2.06.94zm10 10l.94 2.06.94-2.06 2.06-.94-2.06-.94-.94-2.06-.94 2.06-2.06.94z\"/><path d=\"M17.41 7.96l-1.37-1.37c-.4-.4-.92-.59-1.43-.59-.52 0-1.04.2-1.43.59L10.3 9.45l-7.72 7.72c-.78.78-.78 2.05 0 2.83L4 21.41c.39.39.9.59 1.41.59.51 0 1.02-.2 1.41-.59l7.78-7.78 2.81-2.81c.8-.78.8-2.07 0-2.86zM5.41 20L4 18.59l7.72-7.72 1.47 1.35L5.41 20z\"/>\n",
              "  </svg>\n",
              "      </button>\n",
              "      \n",
              "  <style>\n",
              "    .colab-df-container {\n",
              "      display:flex;\n",
              "      flex-wrap:wrap;\n",
              "      gap: 12px;\n",
              "    }\n",
              "\n",
              "    .colab-df-convert {\n",
              "      background-color: #E8F0FE;\n",
              "      border: none;\n",
              "      border-radius: 50%;\n",
              "      cursor: pointer;\n",
              "      display: none;\n",
              "      fill: #1967D2;\n",
              "      height: 32px;\n",
              "      padding: 0 0 0 0;\n",
              "      width: 32px;\n",
              "    }\n",
              "\n",
              "    .colab-df-convert:hover {\n",
              "      background-color: #E2EBFA;\n",
              "      box-shadow: 0px 1px 2px rgba(60, 64, 67, 0.3), 0px 1px 3px 1px rgba(60, 64, 67, 0.15);\n",
              "      fill: #174EA6;\n",
              "    }\n",
              "\n",
              "    [theme=dark] .colab-df-convert {\n",
              "      background-color: #3B4455;\n",
              "      fill: #D2E3FC;\n",
              "    }\n",
              "\n",
              "    [theme=dark] .colab-df-convert:hover {\n",
              "      background-color: #434B5C;\n",
              "      box-shadow: 0px 1px 3px 1px rgba(0, 0, 0, 0.15);\n",
              "      filter: drop-shadow(0px 1px 2px rgba(0, 0, 0, 0.3));\n",
              "      fill: #FFFFFF;\n",
              "    }\n",
              "  </style>\n",
              "\n",
              "      <script>\n",
              "        const buttonEl =\n",
              "          document.querySelector('#df-7152cbc3-8499-4f79-b9f8-b1b053c17e84 button.colab-df-convert');\n",
              "        buttonEl.style.display =\n",
              "          google.colab.kernel.accessAllowed ? 'block' : 'none';\n",
              "\n",
              "        async function convertToInteractive(key) {\n",
              "          const element = document.querySelector('#df-7152cbc3-8499-4f79-b9f8-b1b053c17e84');\n",
              "          const dataTable =\n",
              "            await google.colab.kernel.invokeFunction('convertToInteractive',\n",
              "                                                     [key], {});\n",
              "          if (!dataTable) return;\n",
              "\n",
              "          const docLinkHtml = 'Like what you see? Visit the ' +\n",
              "            '<a target=\"_blank\" href=https://colab.research.google.com/notebooks/data_table.ipynb>data table notebook</a>'\n",
              "            + ' to learn more about interactive tables.';\n",
              "          element.innerHTML = '';\n",
              "          dataTable['output_type'] = 'display_data';\n",
              "          await google.colab.output.renderOutput(dataTable, element);\n",
              "          const docLink = document.createElement('div');\n",
              "          docLink.innerHTML = docLinkHtml;\n",
              "          element.appendChild(docLink);\n",
              "        }\n",
              "      </script>\n",
              "    </div>\n",
              "  </div>\n",
              "  "
            ]
          },
          "metadata": {},
          "execution_count": 30
        }
      ]
    },
    {
      "cell_type": "markdown",
      "source": [
        "Con este nuevo test, se repite la correlación más alta con IBM y T, y la más baja correlación directa es es GE y MCD, coiciden tambien. Entonces, se tiene esa correlación de 41.2% y 35.8%, ya que ambas acciones son de tecnología. "
      ],
      "metadata": {
        "id": "4_JUe2eVjJS-"
      }
    },
    {
      "cell_type": "code",
      "source": [
        "#e. Grafique el histograma de frecuencia de los retornos para dos de las cuatro acciones.\n",
        "retornos.hist(bins=40);"
      ],
      "metadata": {
        "colab": {
          "base_uri": "https://localhost:8080/",
          "height": 281
        },
        "id": "PacF3-4cr6H9",
        "outputId": "9f2dcdde-ff71-456e-d30d-890596c2ff17"
      },
      "execution_count": null,
      "outputs": [
        {
          "output_type": "display_data",
          "data": {
            "text/plain": [
              "<Figure size 432x288 with 4 Axes>"
            ],
            "image/png": "[encoded data removed]"
          },
          "metadata": {
            "needs_background": "light"
          }
        }
      ]
    },
    {
      "cell_type": "code",
      "source": [
        "retornos[\"MCD\"].hist(bins=28);"
      ],
      "metadata": {
        "colab": {
          "base_uri": "https://localhost:8080/",
          "height": 265
        },
        "id": "wge_zBTisISZ",
        "outputId": "5b692e58-2019-4098-eb1c-abfe2c08e277"
      },
      "execution_count": null,
      "outputs": [
        {
          "output_type": "display_data",
          "data": {
            "text/plain": [
              "<Figure size 432x288 with 1 Axes>"
            ],
            "image/png": "[encoded data removed]"
          },
          "metadata": {
            "needs_background": "light"
          }
        }
      ]
    },
    {
      "cell_type": "markdown",
      "source": [
        "\n",
        "\n",
        "*   Por lo general la accion presenta retornos negativos al estar claramente sesgada a la izquierda\n",
        "*   Siendo su punto mas bajo un -20 en retornos\n",
        "\n"
      ],
      "metadata": {
        "id": "RsTke8K64yym"
      }
    },
    {
      "cell_type": "code",
      "source": [
        "retornos[\"GE\"].hist(bins=28);"
      ],
      "metadata": {
        "colab": {
          "base_uri": "https://localhost:8080/",
          "height": 265
        },
        "id": "Ponkze4cxEbe",
        "outputId": "d4d59e0b-c82a-4de1-94f2-f78a52f0c7a1"
      },
      "execution_count": null,
      "outputs": [
        {
          "output_type": "display_data",
          "data": {
            "text/plain": [
              "<Figure size 432x288 with 1 Axes>"
            ],
            "image/png": "[encoded data removed]"
          },
          "metadata": {
            "needs_background": "light"
          }
        }
      ]
    },
    {
      "cell_type": "markdown",
      "source": [
        "\n",
        "\n",
        "*   Con la accion GE esta sesgada a la izquiera tambien \n",
        "*   Datos atipicos de -0.3 y de 0.3\n",
        "\n"
      ],
      "metadata": {
        "id": "bopry2Xt5EMy"
      }
    },
    {
      "cell_type": "code",
      "source": [
        "#f. Implemente las pruebas de normalidad de Kolmogorov-Smirnov para todos los activos. Consolide los resultados en un Data Frame para todos.\n",
        "sk=stats.kstest(retornos[\"MCD\"],'norm'),stats.kstest(retornos[\"GE\"],'norm'),stats.kstest(retornos[\"T\"],'norm'),stats.kstest(retornos[\"IBM\"],'norm')\n",
        "sk"
      ],
      "metadata": {
        "colab": {
          "base_uri": "https://localhost:8080/"
        },
        "id": "NguCjJbLsVC_",
        "outputId": "8ca4b063-819f-4e8d-a94b-fb737dc947c0"
      },
      "execution_count": null,
      "outputs": [
        {
          "output_type": "execute_result",
          "data": {
            "text/plain": [
              "(KstestResult(statistic=0.4543298011470312, pvalue=1.736401601811309e-27),\n",
              " KstestResult(statistic=0.4159825521431614, pvalue=6.374904585192104e-23),\n",
              " KstestResult(statistic=0.46069960325149917, pvalue=2.713331985090179e-28),\n",
              " KstestResult(statistic=0.43726569561758094, pvalue=2.1441549482767187e-25))"
            ]
          },
          "metadata": {},
          "execution_count": 72
        }
      ]
    },
    {
      "cell_type": "code",
      "source": [
        "sk=pd.DataFrame({\n",
        "    \"Prueba de normalidad\":[\"Kolmogorov-Smirnov\"],\n",
        "    \"MCD\":[stats.kstest(retornos[\"MCD\"],'norm')],\n",
        "    \"GE\":[stats.kstest(retornos[\"GE\"],'norm')],\n",
        "    \"T\":[stats.kstest(retornos[\"T\"],'norm')],\n",
        "    \"IBM\":[stats.kstest(retornos[\"IBM\"],'norm')]\n",
        "})\n",
        "sk"
      ],
      "metadata": {
        "colab": {
          "base_uri": "https://localhost:8080/",
          "height": 159
        },
        "id": "IRp2IXoGog7C",
        "outputId": "ea9ce628-c24e-4871-cbca-3419704c78bc"
      },
      "execution_count": null,
      "outputs": [
        {
          "output_type": "execute_result",
          "data": {
            "text/plain": [
              "  Prueba de normalidad                                          MCD  \\\n",
              "0   Kolmogorov-Smirnov  (0.4543298011470312, 1.736401601811309e-27)   \n",
              "\n",
              "                                            GE  \\\n",
              "0  (0.4159825521431614, 6.374904585192104e-23)   \n",
              "\n",
              "                                              T  \\\n",
              "0  (0.46069960325149917, 2.713331985090179e-28)   \n",
              "\n",
              "                                             IBM  \n",
              "0  (0.43726569561758094, 2.1441549482767187e-25)  "
            ],
            "text/html": [
              "\n",
              "  <div id=\"df-38d1c5cc-8386-434b-acb3-01f4e1217287\">\n",
              "    <div class=\"colab-df-container\">\n",
              "      <div>\n",
              "<style scoped>\n",
              "    .dataframe tbody tr th:only-of-type {\n",
              "        vertical-align: middle;\n",
              "    }\n",
              "\n",
              "    .dataframe tbody tr th {\n",
              "        vertical-align: top;\n",
              "    }\n",
              "\n",
              "    .dataframe thead th {\n",
              "        text-align: right;\n",
              "    }\n",
              "</style>\n",
              "<table border=\"1\" class=\"dataframe\">\n",
              "  <thead>\n",
              "    <tr style=\"text-align: right;\">\n",
              "      <th></th>\n",
              "      <th>Prueba de normalidad</th>\n",
              "      <th>MCD</th>\n",
              "      <th>GE</th>\n",
              "      <th>T</th>\n",
              "      <th>IBM</th>\n",
              "    </tr>\n",
              "  </thead>\n",
              "  <tbody>\n",
              "    <tr>\n",
              "      <th>0</th>\n",
              "      <td>Kolmogorov-Smirnov</td>\n",
              "      <td>(0.4543298011470312, 1.736401601811309e-27)</td>\n",
              "      <td>(0.4159825521431614, 6.374904585192104e-23)</td>\n",
              "      <td>(0.46069960325149917, 2.713331985090179e-28)</td>\n",
              "      <td>(0.43726569561758094, 2.1441549482767187e-25)</td>\n",
              "    </tr>\n",
              "  </tbody>\n",
              "</table>\n",
              "</div>\n",
              "      <button class=\"colab-df-convert\" onclick=\"convertToInteractive('df-38d1c5cc-8386-434b-acb3-01f4e1217287')\"\n",
              "              title=\"Convert this dataframe to an interactive table.\"\n",
              "              style=\"display:none;\">\n",
              "        \n",
              "  <svg xmlns=\"http://www.w3.org/2000/svg\" height=\"24px\"viewBox=\"0 0 24 24\"\n",
              "       width=\"24px\">\n",
              "    <path d=\"M0 0h24v24H0V0z\" fill=\"none\"/>\n",
              "    <path d=\"M18.56 5.44l.94 2.06.94-2.06 2.06-.94-2.06-.94-.94-2.06-.94 2.06-2.06.94zm-11 1L8.5 8.5l.94-2.06 2.06-.94-2.06-.94L8.5 2.5l-.94 2.06-2.06.94zm10 10l.94 2.06.94-2.06 2.06-.94-2.06-.94-.94-2.06-.94 2.06-2.06.94z\"/><path d=\"M17.41 7.96l-1.37-1.37c-.4-.4-.92-.59-1.43-.59-.52 0-1.04.2-1.43.59L10.3 9.45l-7.72 7.72c-.78.78-.78 2.05 0 2.83L4 21.41c.39.39.9.59 1.41.59.51 0 1.02-.2 1.41-.59l7.78-7.78 2.81-2.81c.8-.78.8-2.07 0-2.86zM5.41 20L4 18.59l7.72-7.72 1.47 1.35L5.41 20z\"/>\n",
              "  </svg>\n",
              "      </button>\n",
              "      \n",
              "  <style>\n",
              "    .colab-df-container {\n",
              "      display:flex;\n",
              "      flex-wrap:wrap;\n",
              "      gap: 12px;\n",
              "    }\n",
              "\n",
              "    .colab-df-convert {\n",
              "      background-color: #E8F0FE;\n",
              "      border: none;\n",
              "      border-radius: 50%;\n",
              "      cursor: pointer;\n",
              "      display: none;\n",
              "      fill: #1967D2;\n",
              "      height: 32px;\n",
              "      padding: 0 0 0 0;\n",
              "      width: 32px;\n",
              "    }\n",
              "\n",
              "    .colab-df-convert:hover {\n",
              "      background-color: #E2EBFA;\n",
              "      box-shadow: 0px 1px 2px rgba(60, 64, 67, 0.3), 0px 1px 3px 1px rgba(60, 64, 67, 0.15);\n",
              "      fill: #174EA6;\n",
              "    }\n",
              "\n",
              "    [theme=dark] .colab-df-convert {\n",
              "      background-color: #3B4455;\n",
              "      fill: #D2E3FC;\n",
              "    }\n",
              "\n",
              "    [theme=dark] .colab-df-convert:hover {\n",
              "      background-color: #434B5C;\n",
              "      box-shadow: 0px 1px 3px 1px rgba(0, 0, 0, 0.15);\n",
              "      filter: drop-shadow(0px 1px 2px rgba(0, 0, 0, 0.3));\n",
              "      fill: #FFFFFF;\n",
              "    }\n",
              "  </style>\n",
              "\n",
              "      <script>\n",
              "        const buttonEl =\n",
              "          document.querySelector('#df-38d1c5cc-8386-434b-acb3-01f4e1217287 button.colab-df-convert');\n",
              "        buttonEl.style.display =\n",
              "          google.colab.kernel.accessAllowed ? 'block' : 'none';\n",
              "\n",
              "        async function convertToInteractive(key) {\n",
              "          const element = document.querySelector('#df-38d1c5cc-8386-434b-acb3-01f4e1217287');\n",
              "          const dataTable =\n",
              "            await google.colab.kernel.invokeFunction('convertToInteractive',\n",
              "                                                     [key], {});\n",
              "          if (!dataTable) return;\n",
              "\n",
              "          const docLinkHtml = 'Like what you see? Visit the ' +\n",
              "            '<a target=\"_blank\" href=https://colab.research.google.com/notebooks/data_table.ipynb>data table notebook</a>'\n",
              "            + ' to learn more about interactive tables.';\n",
              "          element.innerHTML = '';\n",
              "          dataTable['output_type'] = 'display_data';\n",
              "          await google.colab.output.renderOutput(dataTable, element);\n",
              "          const docLink = document.createElement('div');\n",
              "          docLink.innerHTML = docLinkHtml;\n",
              "          element.appendChild(docLink);\n",
              "        }\n",
              "      </script>\n",
              "    </div>\n",
              "  </div>\n",
              "  "
            ]
          },
          "metadata": {},
          "execution_count": 73
        }
      ]
    },
    {
      "cell_type": "markdown",
      "source": [
        "Dado a este test, se evidencia que ningún activo tiene una distribución normla, ya que el valor-p es menor a la significancia de 5%, por ende se rechaza la hipótesis nula, la cual era es una distribución normal. "
      ],
      "metadata": {
        "id": "asopeKS6lfvN"
      }
    },
    {
      "cell_type": "markdown",
      "source": [
        "Debido a que el P-valor es menor a la significa de 5%, los 4 activos no son normales "
      ],
      "metadata": {
        "id": "Qep9gucypJGd"
      }
    },
    {
      "cell_type": "markdown",
      "source": [
        "2. a. Calcule la volatilidad mensual y anualizada de las series de retornos usando las medidas\n",
        "de:"
      ],
      "metadata": {
        "id": "WBtZdxjuDvlt"
      }
    },
    {
      "cell_type": "markdown",
      "source": [
        "i) desviación estándar"
      ],
      "metadata": {
        "id": "vkveyucIH6im"
      }
    },
    {
      "cell_type": "code",
      "source": [
        "#LLamamos la desviacion estandar la cual ya sacamos en el primer punto \n",
        "estadisticos.iloc[2]"
      ],
      "metadata": {
        "colab": {
          "base_uri": "https://localhost:8080/"
        },
        "id": "Op9OJ02aLJnJ",
        "outputId": "2ada0bb2-7fd4-4299-941d-e498fa2776a5"
      },
      "execution_count": 31,
      "outputs": [
        {
          "output_type": "execute_result",
          "data": {
            "text/plain": [
              "GE     0.086937\n",
              "IBM    0.060536\n",
              "MCD    0.042488\n",
              "T      0.048299\n",
              "Name: std, dtype: float64"
            ]
          },
          "metadata": {},
          "execution_count": 31
        }
      ]
    },
    {
      "cell_type": "markdown",
      "source": [
        "Denotamos que la accion de GE es la que presenta mayor desvacion en sus retornos seguida por IBM\n",
        "Sin embargo tanto T como MCD presentan fluctuaciones menos severas que las anteriormente mencionadas y sus valores son muy similares"
      ],
      "metadata": {
        "id": "epffobWj96vP"
      }
    },
    {
      "cell_type": "markdown",
      "source": [
        "ii) Parkinson"
      ],
      "metadata": {
        "id": "Grf0AYoD7Skm"
      }
    },
    {
      "cell_type": "code",
      "source": [
        "#se le restan los retornos al trabajar con mensuales \n",
        "lnHL = np.log(precios[\"High\"]/precios[\"Low\"]).dropna()\n",
        "sigmaPark_d = (((1/(4*np.log(2)))*lnHL**2)-(retornos.mean()**2)).mean()**0.5\n",
        "sigmaPark_d"
      ],
      "metadata": {
        "colab": {
          "base_uri": "https://localhost:8080/"
        },
        "id": "GN2R1ZAU7ZGz",
        "outputId": "e02687fa-0191-433c-ef01-e103e70d3706"
      },
      "execution_count": 118,
      "outputs": [
        {
          "output_type": "execute_result",
          "data": {
            "text/plain": [
              "GE     0.093021\n",
              "IBM    0.062220\n",
              "MCD    0.049406\n",
              "T      0.054067\n",
              "dtype: float64"
            ]
          },
          "metadata": {},
          "execution_count": 118
        }
      ]
    },
    {
      "cell_type": "code",
      "source": [
        "# Volatilidad anulizada de Parkinson , con el numero 12 ya que los valores estan en meses\n",
        "sigmaPark=sigmaPark_d*np.sqrt(12)\n",
        "sigmaPark"
      ],
      "metadata": {
        "colab": {
          "base_uri": "https://localhost:8080/"
        },
        "id": "iB6rGF8t7aAR",
        "outputId": "c7b3d57f-fec3-47ef-bcce-14ae6b3b9fe0"
      },
      "execution_count": 110,
      "outputs": [
        {
          "output_type": "execute_result",
          "data": {
            "text/plain": [
              "GE     0.322234\n",
              "IBM    0.215535\n",
              "MCD    0.171148\n",
              "T      0.187294\n",
              "dtype: float64"
            ]
          },
          "metadata": {},
          "execution_count": 110
        }
      ]
    },
    {
      "cell_type": "markdown",
      "source": [
        "iii) Garman-Klass"
      ],
      "metadata": {
        "id": "501sZ7spFgfF"
      }
    },
    {
      "cell_type": "code",
      "source": [
        "#la serie de volatilidad es mas suave , aunque tanto como en el ejemplo de clase dio un volatilidad ligeramnete mayor\n",
        "lnHL = np.log(precios[\"High\"]/precios[\"Low\"]).dropna()\n",
        "lnCO = np.log(precios[\"Close\"]/precios[\"Open\"]).dropna()\n",
        "sigmaGK_d = ((0.5*lnHL**2-(2*np.log(2)-1)*lnCO**2)-(retornos.mean()**2)).mean()**0.5\n",
        "sigmaGK_d"
      ],
      "metadata": {
        "colab": {
          "base_uri": "https://localhost:8080/"
        },
        "id": "jIpR9xvCFhnD",
        "outputId": "9ae17686-f127-4a5d-d417-a3194ff31d09"
      },
      "execution_count": 111,
      "outputs": [
        {
          "output_type": "execute_result",
          "data": {
            "text/plain": [
              "GE     0.094820\n",
              "IBM    0.063019\n",
              "MCD    0.052101\n",
              "T      0.055676\n",
              "dtype: float64"
            ]
          },
          "metadata": {},
          "execution_count": 111
        }
      ]
    },
    {
      "cell_type": "code",
      "source": [
        "# Volatilidad anulizada de Garman-Klass\n",
        "sigmaGK=sigmaGK_d*np.sqrt(12)\n",
        "sigmaGK"
      ],
      "metadata": {
        "colab": {
          "base_uri": "https://localhost:8080/"
        },
        "id": "5qb__ICxFrqa",
        "outputId": "0ab5f026-0a8b-43c6-b277-0afe7cb230a0"
      },
      "execution_count": 112,
      "outputs": [
        {
          "output_type": "execute_result",
          "data": {
            "text/plain": [
              "GE     0.328467\n",
              "IBM    0.218304\n",
              "MCD    0.180484\n",
              "T      0.192866\n",
              "dtype: float64"
            ]
          },
          "metadata": {},
          "execution_count": 112
        }
      ]
    },
    {
      "cell_type": "markdown",
      "source": [
        "iv) volatilidad ponderada\n",
        "exponencial (EWMA) con una lambda de 0.94."
      ],
      "metadata": {
        "id": "C65or8WeHnaG"
      }
    },
    {
      "cell_type": "code",
      "source": [
        "# Definir la función\n",
        "#toman el dato mas reciente y lo ponderan con el 6% que va decreciendo\n",
        "#Modelo tipo garch\n",
        "def EWMAvol(retornos,Lambda):\n",
        "  m = len(retornos) \n",
        "  b = np.arange(m-1,-1,-1) # secuencia decreciente\n",
        "  l = np.repeat(0.94,m)\n",
        "\n",
        "  varewma = ((np.power(retornos,2)*(np.power(l,b))).sum())*(1-Lambda)\n",
        "  EWMAvol = np.sqrt(varewma)\n",
        "  return(EWMAvol)"
      ],
      "metadata": {
        "id": "IwZwB7wZHpN4"
      },
      "execution_count": 132,
      "outputs": []
    },
    {
      "cell_type": "code",
      "source": [
        "m = len(retornos) \n",
        "#Son 143 los retornos\n",
        "m"
      ],
      "metadata": {
        "colab": {
          "base_uri": "https://localhost:8080/"
        },
        "id": "4_l2-JQdJEhM",
        "outputId": "788701ed-6634-45b4-d422-2b34782a18b5"
      },
      "execution_count": 17,
      "outputs": [
        {
          "output_type": "execute_result",
          "data": {
            "text/plain": [
              "143"
            ]
          },
          "metadata": {},
          "execution_count": 17
        }
      ]
    },
    {
      "cell_type": "code",
      "source": [
        "#Se calcula la EWMA de cada accion\n",
        "Lambda = 0.94\n",
        "sigmaewma1 = EWMAvol(retornos[\"GE\"],Lambda)*np.sqrt(12)\n",
        "sigmaewma1"
      ],
      "metadata": {
        "colab": {
          "base_uri": "https://localhost:8080/"
        },
        "id": "T8Yi73qhHwTb",
        "outputId": "71f11d0b-1088-4c33-8d23-9d7229abde9e"
      },
      "execution_count": 18,
      "outputs": [
        {
          "output_type": "execute_result",
          "data": {
            "text/plain": [
              "0.36506059074271197"
            ]
          },
          "metadata": {},
          "execution_count": 18
        }
      ]
    },
    {
      "cell_type": "code",
      "source": [
        "Lambda = 0.94\n",
        "sigmaewma2 = EWMAvol(retornos[\"IBM\"],Lambda)*np.sqrt(12)\n",
        "sigmaewma2"
      ],
      "metadata": {
        "colab": {
          "base_uri": "https://localhost:8080/"
        },
        "id": "tVMq3V30Kk59",
        "outputId": "0ec3e3a8-390b-4ce8-ade4-b64a9edcf4fd"
      },
      "execution_count": 19,
      "outputs": [
        {
          "output_type": "execute_result",
          "data": {
            "text/plain": [
              "0.2563708005205651"
            ]
          },
          "metadata": {},
          "execution_count": 19
        }
      ]
    },
    {
      "cell_type": "code",
      "source": [
        "Lambda = 0.94\n",
        "sigmaewma3 = EWMAvol(retornos[\"MCD\"],Lambda)*np.sqrt(12)\n",
        "sigmaewma3"
      ],
      "metadata": {
        "colab": {
          "base_uri": "https://localhost:8080/"
        },
        "id": "Y3ZVB5s4KlnW",
        "outputId": "2c442c31-8790-491f-aa35-62e664a6f48a"
      },
      "execution_count": 20,
      "outputs": [
        {
          "output_type": "execute_result",
          "data": {
            "text/plain": [
              "0.18180679939162225"
            ]
          },
          "metadata": {},
          "execution_count": 20
        }
      ]
    },
    {
      "cell_type": "code",
      "source": [
        "Lambda = 0.94\n",
        "sigmaewma4 = EWMAvol(retornos[\"T\"],Lambda)*np.sqrt(12)\n",
        "sigmaewma4"
      ],
      "metadata": {
        "colab": {
          "base_uri": "https://localhost:8080/"
        },
        "id": "2mT0Cp-LKmQS",
        "outputId": "8951f588-032c-49ac-ac0f-405424c1a1e3"
      },
      "execution_count": 21,
      "outputs": [
        {
          "output_type": "execute_result",
          "data": {
            "text/plain": [
              "0.18827763856123053"
            ]
          },
          "metadata": {},
          "execution_count": 21
        }
      ]
    },
    {
      "cell_type": "code",
      "source": [
        "ewmadf=pd.DataFrame({\n",
        "    \"Prueba de volatilidad\":[\"EWMA\",\"Desviacion\",\"Parkinson\",\"Garman-Klass\"],\n",
        "    \"GE\":[sigmaewma1,estadisticos.iloc[2,0],sigmaPark[\"GE\"],sigmaGK[\"GE\"]],\n",
        "    \"IBM\":[sigmaewma2,estadisticos.iloc[2,1],sigmaPark[\"IBM\"],sigmaGK[\"IBM\"]],\n",
        "    \"MCD\":[sigmaewma3,estadisticos.iloc[2,2],sigmaPark[\"MCD\"],sigmaGK[\"MCD\"]],\n",
        "    \"T\":[sigmaewma4,estadisticos.iloc[2,3],sigmaPark[\"T\"],sigmaGK[\"T\"]],\n",
        "})\n",
        "ewmadf"
      ],
      "metadata": {
        "colab": {
          "base_uri": "https://localhost:8080/",
          "height": 175
        },
        "id": "dFVzIOOAK60P",
        "outputId": "3f4949a8-30c1-42ee-82b5-e76c8ca78a3d"
      },
      "execution_count": 113,
      "outputs": [
        {
          "output_type": "execute_result",
          "data": {
            "text/plain": [
              "  Prueba de volatilidad        GE       IBM       MCD         T\n",
              "0                  EWMA  0.365061  0.256371  0.181807  0.188278\n",
              "1            Desviacion  0.086937  0.060536  0.042488  0.048299\n",
              "2             Parkinson  0.322234  0.215535  0.171148  0.187294\n",
              "3          Garman-Klass  0.328467  0.218304  0.180484  0.192866"
            ],
            "text/html": [
              "\n",
              "  <div id=\"df-2831b253-d563-4336-b61f-3bf0aa752365\">\n",
              "    <div class=\"colab-df-container\">\n",
              "      <div>\n",
              "<style scoped>\n",
              "    .dataframe tbody tr th:only-of-type {\n",
              "        vertical-align: middle;\n",
              "    }\n",
              "\n",
              "    .dataframe tbody tr th {\n",
              "        vertical-align: top;\n",
              "    }\n",
              "\n",
              "    .dataframe thead th {\n",
              "        text-align: right;\n",
              "    }\n",
              "</style>\n",
              "<table border=\"1\" class=\"dataframe\">\n",
              "  <thead>\n",
              "    <tr style=\"text-align: right;\">\n",
              "      <th></th>\n",
              "      <th>Prueba de volatilidad</th>\n",
              "      <th>GE</th>\n",
              "      <th>IBM</th>\n",
              "      <th>MCD</th>\n",
              "      <th>T</th>\n",
              "    </tr>\n",
              "  </thead>\n",
              "  <tbody>\n",
              "    <tr>\n",
              "      <th>0</th>\n",
              "      <td>EWMA</td>\n",
              "      <td>0.365061</td>\n",
              "      <td>0.256371</td>\n",
              "      <td>0.181807</td>\n",
              "      <td>0.188278</td>\n",
              "    </tr>\n",
              "    <tr>\n",
              "      <th>1</th>\n",
              "      <td>Desviacion</td>\n",
              "      <td>0.086937</td>\n",
              "      <td>0.060536</td>\n",
              "      <td>0.042488</td>\n",
              "      <td>0.048299</td>\n",
              "    </tr>\n",
              "    <tr>\n",
              "      <th>2</th>\n",
              "      <td>Parkinson</td>\n",
              "      <td>0.322234</td>\n",
              "      <td>0.215535</td>\n",
              "      <td>0.171148</td>\n",
              "      <td>0.187294</td>\n",
              "    </tr>\n",
              "    <tr>\n",
              "      <th>3</th>\n",
              "      <td>Garman-Klass</td>\n",
              "      <td>0.328467</td>\n",
              "      <td>0.218304</td>\n",
              "      <td>0.180484</td>\n",
              "      <td>0.192866</td>\n",
              "    </tr>\n",
              "  </tbody>\n",
              "</table>\n",
              "</div>\n",
              "      <button class=\"colab-df-convert\" onclick=\"convertToInteractive('df-2831b253-d563-4336-b61f-3bf0aa752365')\"\n",
              "              title=\"Convert this dataframe to an interactive table.\"\n",
              "              style=\"display:none;\">\n",
              "        \n",
              "  <svg xmlns=\"http://www.w3.org/2000/svg\" height=\"24px\"viewBox=\"0 0 24 24\"\n",
              "       width=\"24px\">\n",
              "    <path d=\"M0 0h24v24H0V0z\" fill=\"none\"/>\n",
              "    <path d=\"M18.56 5.44l.94 2.06.94-2.06 2.06-.94-2.06-.94-.94-2.06-.94 2.06-2.06.94zm-11 1L8.5 8.5l.94-2.06 2.06-.94-2.06-.94L8.5 2.5l-.94 2.06-2.06.94zm10 10l.94 2.06.94-2.06 2.06-.94-2.06-.94-.94-2.06-.94 2.06-2.06.94z\"/><path d=\"M17.41 7.96l-1.37-1.37c-.4-.4-.92-.59-1.43-.59-.52 0-1.04.2-1.43.59L10.3 9.45l-7.72 7.72c-.78.78-.78 2.05 0 2.83L4 21.41c.39.39.9.59 1.41.59.51 0 1.02-.2 1.41-.59l7.78-7.78 2.81-2.81c.8-.78.8-2.07 0-2.86zM5.41 20L4 18.59l7.72-7.72 1.47 1.35L5.41 20z\"/>\n",
              "  </svg>\n",
              "      </button>\n",
              "      \n",
              "  <style>\n",
              "    .colab-df-container {\n",
              "      display:flex;\n",
              "      flex-wrap:wrap;\n",
              "      gap: 12px;\n",
              "    }\n",
              "\n",
              "    .colab-df-convert {\n",
              "      background-color: #E8F0FE;\n",
              "      border: none;\n",
              "      border-radius: 50%;\n",
              "      cursor: pointer;\n",
              "      display: none;\n",
              "      fill: #1967D2;\n",
              "      height: 32px;\n",
              "      padding: 0 0 0 0;\n",
              "      width: 32px;\n",
              "    }\n",
              "\n",
              "    .colab-df-convert:hover {\n",
              "      background-color: #E2EBFA;\n",
              "      box-shadow: 0px 1px 2px rgba(60, 64, 67, 0.3), 0px 1px 3px 1px rgba(60, 64, 67, 0.15);\n",
              "      fill: #174EA6;\n",
              "    }\n",
              "\n",
              "    [theme=dark] .colab-df-convert {\n",
              "      background-color: #3B4455;\n",
              "      fill: #D2E3FC;\n",
              "    }\n",
              "\n",
              "    [theme=dark] .colab-df-convert:hover {\n",
              "      background-color: #434B5C;\n",
              "      box-shadow: 0px 1px 3px 1px rgba(0, 0, 0, 0.15);\n",
              "      filter: drop-shadow(0px 1px 2px rgba(0, 0, 0, 0.3));\n",
              "      fill: #FFFFFF;\n",
              "    }\n",
              "  </style>\n",
              "\n",
              "      <script>\n",
              "        const buttonEl =\n",
              "          document.querySelector('#df-2831b253-d563-4336-b61f-3bf0aa752365 button.colab-df-convert');\n",
              "        buttonEl.style.display =\n",
              "          google.colab.kernel.accessAllowed ? 'block' : 'none';\n",
              "\n",
              "        async function convertToInteractive(key) {\n",
              "          const element = document.querySelector('#df-2831b253-d563-4336-b61f-3bf0aa752365');\n",
              "          const dataTable =\n",
              "            await google.colab.kernel.invokeFunction('convertToInteractive',\n",
              "                                                     [key], {});\n",
              "          if (!dataTable) return;\n",
              "\n",
              "          const docLinkHtml = 'Like what you see? Visit the ' +\n",
              "            '<a target=\"_blank\" href=https://colab.research.google.com/notebooks/data_table.ipynb>data table notebook</a>'\n",
              "            + ' to learn more about interactive tables.';\n",
              "          element.innerHTML = '';\n",
              "          dataTable['output_type'] = 'display_data';\n",
              "          await google.colab.output.renderOutput(dataTable, element);\n",
              "          const docLink = document.createElement('div');\n",
              "          docLink.innerHTML = docLinkHtml;\n",
              "          element.appendChild(docLink);\n",
              "        }\n",
              "      </script>\n",
              "    </div>\n",
              "  </div>\n",
              "  "
            ]
          },
          "metadata": {},
          "execution_count": 113
        }
      ]
    },
    {
      "cell_type": "markdown",
      "source": [
        "La accion GE cuenta con una de las mayores volatilidades , es interesante recalcar como la accion T en sus 3 pruebas presenta unos datos muy similares y la accion MCD es una con menor volatilidad"
      ],
      "metadata": {
        "id": "_xoJEuqW6DkE"
      }
    },
    {
      "cell_type": "markdown",
      "source": [
        "b. Para un solo activo de su elección, presente las gráficas para las últimas tres medidas\n",
        "de volatilidad."
      ],
      "metadata": {
        "id": "pM8fN-NIL2wB"
      }
    },
    {
      "cell_type": "code",
      "source": [
        "#se escogio la accion GE"
      ],
      "metadata": {
        "id": "ec9GCeS06r4R"
      },
      "execution_count": null,
      "outputs": []
    },
    {
      "cell_type": "markdown",
      "source": [
        "***Medida de Parkinson***"
      ],
      "metadata": {
        "id": "h-3EyO6WRV1Q"
      }
    },
    {
      "cell_type": "code",
      "source": [
        "sigmaPark_dp = (((1/(4*np.log(2)))*lnHL**2)-(retornos.mean()**2))**0.5\n",
        "sigmaPark_dp[\"GE\"].plot()"
      ],
      "metadata": {
        "colab": {
          "base_uri": "https://localhost:8080/",
          "height": 296
        },
        "id": "9sUTahRrL2Jm",
        "outputId": "3f1f1d91-3791-4a50-a605-1c8c2933ac40"
      },
      "execution_count": 136,
      "outputs": [
        {
          "output_type": "execute_result",
          "data": {
            "text/plain": [
              "<matplotlib.axes._subplots.AxesSubplot at 0x7f2180933dd0>"
            ]
          },
          "metadata": {},
          "execution_count": 136
        },
        {
          "output_type": "display_data",
          "data": {
            "text/plain": [
              "<Figure size 432x288 with 1 Axes>"
            ],
            "image/png": "[encoded data removed]"
          },
          "metadata": {
            "needs_background": "light"
          }
        }
      ]
    },
    {
      "cell_type": "markdown",
      "source": [
        "***Medida de Garman-Klass***"
      ],
      "metadata": {
        "id": "up9Z9dKiRcRd"
      }
    },
    {
      "cell_type": "code",
      "source": [
        "sigmaGK_dp = ((0.5*lnHL**2-(2*np.log(2)-1)*lnCO**2)-(retornos.mean()**2))**0.5\n",
        "sigmaGK_dp[\"GE\"].plot()"
      ],
      "metadata": {
        "colab": {
          "base_uri": "https://localhost:8080/",
          "height": 296
        },
        "id": "KW-F91baw41T",
        "outputId": "35e825ac-0639-4cab-ea7a-62195a426fb9"
      },
      "execution_count": 122,
      "outputs": [
        {
          "output_type": "execute_result",
          "data": {
            "text/plain": [
              "<matplotlib.axes._subplots.AxesSubplot at 0x7f2180ae1210>"
            ]
          },
          "metadata": {},
          "execution_count": 122
        },
        {
          "output_type": "display_data",
          "data": {
            "text/plain": [
              "<Figure size 432x288 with 1 Axes>"
            ],
            "image/png": "[encoded data removed]"
          },
          "metadata": {
            "needs_background": "light"
          }
        }
      ]
    },
    {
      "cell_type": "markdown",
      "source": [
        "\n",
        "\n",
        "*   La accion de GE mostro un mayor volatilidad en el año 2015 y en los años 2019 y 2021 esto utlimo gracias al impacto de la pandemia de covid \n",
        "*   En terminos generales oscila entre 0.5 y 0.20 lo cual es mas alto que las demas analizadas en este taller\n",
        "\n"
      ],
      "metadata": {
        "id": "3NlxoCGh86NJ"
      }
    },
    {
      "cell_type": "markdown",
      "source": [
        "***Medida EWMA***"
      ],
      "metadata": {
        "id": "dgoR4gyqRsWr"
      }
    },
    {
      "cell_type": "code",
      "source": [
        "\n",
        "m = len(retornos) \n",
        "b = np.arange(m-1,-1,-1) # secuencia decreciente\n",
        "l = np.repeat(0.94,m)\n",
        "\n",
        "varewma = ((np.power(retornos[\"GE\"],2)*(np.power(l,b))))*(1-Lambda)\n",
        "varewma.plot()\n"
      ],
      "metadata": {
        "colab": {
          "base_uri": "https://localhost:8080/",
          "height": 296
        },
        "id": "vSfNtx9hxC15",
        "outputId": "ef3e62bc-6a29-4cda-fffb-8d7d0eaabb32"
      },
      "execution_count": 135,
      "outputs": [
        {
          "output_type": "execute_result",
          "data": {
            "text/plain": [
              "<matplotlib.axes._subplots.AxesSubplot at 0x7f21849c1b90>"
            ]
          },
          "metadata": {},
          "execution_count": 135
        },
        {
          "output_type": "display_data",
          "data": {
            "text/plain": [
              "<Figure size 432x288 with 1 Axes>"
            ],
            "image/png": "[encoded data removed]"
          },
          "metadata": {
            "needs_background": "light"
          }
        }
      ]
    }
  ]
}